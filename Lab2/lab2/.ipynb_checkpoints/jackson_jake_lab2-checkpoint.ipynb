{
 "cells": [
  {
   "cell_type": "markdown",
   "metadata": {},
   "source": [
    "# Kuzushiji Classification with Support Vector Machines\n",
    "\n",
    "In this notebook we are going to explore the use of Support Vector Machines (SVM) for image classification. We will use a variant of the famous MNIST dataset (the original is a dataset of handwritten digits). The version we are going to use is called Kuzushiji-MNIST or K-MNIST for short (https://github.com/rois-codh/kmnist) and is a dataset of traditional japanese handwritten kana.\n",
    "\n",
    "\n",
    "\n",
    "The dataset labels are the following:\n",
    "\n",
    "| Label | Hiragana Character | Romanji (Pronunciation) |\n",
    "| :-: | :-: | :-: |\n",
    "|   0   | お | o |\n",
    "| 1 | き | ki |\n",
    "| 2 | す | su |\n",
    "| 3 | つ | tsu |\n",
    "| 4 | な | na |\n",
    "| 5 | は | ha |\n",
    "| 6 | ま | ma |\n",
    "| 7 | や | ya |\n",
    "| 8 | れ | re |\n",
    "| 9 | を | wo |"
   ]
  },
  {
   "cell_type": "markdown",
   "metadata": {},
   "source": [
    "## TODO: Insert your surname, name and ID number\n",
    "\n",
    "Student surname: Jackson\n",
    "\n",
    "Student name: Jake\n",
    "    \n",
    "ID: 2046805"
   ]
  },
  {
   "cell_type": "code",
   "execution_count": 1,
   "metadata": {},
   "outputs": [],
   "source": [
    "#load the required packages\n",
    "\n",
    "%matplotlib inline  \n",
    "\n",
    "import numpy as np\n",
    "import scipy as sp\n",
    "import matplotlib.pyplot as plt\n",
    "\n",
    "import sklearn\n",
    "from sklearn.datasets import fetch_openml\n",
    "from sklearn.neural_network import MLPClassifier\n",
    "from sklearn.decomposition import PCA\n",
    "import sklearn.metrics as skm"
   ]
  },
  {
   "cell_type": "code",
   "execution_count": 2,
   "metadata": {},
   "outputs": [],
   "source": [
    "# helper function to load Kuzushiji-MNIST dataset\n",
    "def load_mnist(path, kind='train'):\n",
    "    import os\n",
    "    import gzip\n",
    "    import numpy as np\n",
    "    labels_path = os.path.join(path, 'K%s-labels-idx1-ubyte.gz' % kind)\n",
    "    images_path = os.path.join(path, 'K%s-images-idx3-ubyte.gz' % kind)\n",
    "    with gzip.open(labels_path, 'rb') as lbpath:\n",
    "        labels = np.frombuffer(lbpath.read(), dtype=np.uint8,offset=8)\n",
    "    with gzip.open(images_path, 'rb') as imgpath:\n",
    "        images = np.frombuffer(imgpath.read(), dtype=np.uint8,offset=16).reshape(len(labels), 784)\n",
    "    return images, labels"
   ]
  },
  {
   "cell_type": "code",
   "execution_count": 3,
   "metadata": {},
   "outputs": [],
   "source": [
    "#fix your ID (\"numero di matricola\") and the seed for random generator (as usual you can try different seeds)\n",
    "ID = 2046805\n",
    "np.random.seed(ID)"
   ]
  },
  {
   "cell_type": "code",
   "execution_count": 4,
   "metadata": {},
   "outputs": [
    {
     "name": "stdout",
     "output_type": "stream",
     "text": [
      "(60000, 784) (60000,)\n"
     ]
    }
   ],
   "source": [
    "#load the K-MNIST dataset from the 'data' folder and let's normalize the features so that each value is in [0,1] \n",
    "\n",
    "X, y = load_mnist('data', kind='train')\n",
    "# rescale the data\n",
    "X, y = X / 255., y # original pixel values are between 0 and 255\n",
    "print(X.shape, y.shape)"
   ]
  },
  {
   "cell_type": "markdown",
   "metadata": {},
   "source": [
    "Now split into training and test. Make sure that each label is present at least 10 times\n",
    "in training. If it is not, then keep adding permutations to the initial data until this \n",
    "happens."
   ]
  },
  {
   "cell_type": "code",
   "execution_count": 5,
   "metadata": {},
   "outputs": [
    {
     "name": "stdout",
     "output_type": "stream",
     "text": [
      "Labels in training dataset:  [0 1 2 3 4 5 6 7 8 9]\n",
      "Frequencies in training dataset:  [74 62 64 52 67 60 47 70 51 53]\n"
     ]
    }
   ],
   "source": [
    "# Random permute the data and split into training and test taking the first 600\n",
    "# data samples as training and 4000 samples as test\n",
    "permutation = np.random.permutation(X.shape[0])\n",
    "\n",
    "X = X[permutation]\n",
    "y = y[permutation]\n",
    "\n",
    "m_training = 600 #small just for low computers\n",
    "m_test = 4000\n",
    "\n",
    "X_train, X_test = X[:m_training], X[m_training:m_training+m_test:]\n",
    "y_train, y_test = y[:m_training], y[m_training:m_training+m_test:]\n",
    "\n",
    "labels, freqs = np.unique(y_train, return_counts=True)\n",
    "print(\"Labels in training dataset: \", labels)\n",
    "print(\"Frequencies in training dataset: \", freqs)\n"
   ]
  },
  {
   "cell_type": "code",
   "execution_count": 6,
   "metadata": {},
   "outputs": [],
   "source": [
    "#function for plotting a image and printing the corresponding label\n",
    "def plot_input(X_matrix, labels, index):\n",
    "    print(\"INPUT:\")\n",
    "    plt.imshow(\n",
    "        X_matrix[index].reshape(28,28),\n",
    "        cmap          = plt.cm.gray_r,\n",
    "        interpolation = \"nearest\"\n",
    "    )\n",
    "    plt.show()\n",
    "    print(\"LABEL: %i\"%labels[index])\n",
    "    return"
   ]
  },
  {
   "cell_type": "code",
   "execution_count": 7,
   "metadata": {},
   "outputs": [
    {
     "name": "stdout",
     "output_type": "stream",
     "text": [
      "INPUT:\n"
     ]
    },
    {
     "data": {
      "image/png": "[encoded data removed]",
      "text/plain": [
       "<Figure size 432x288 with 1 Axes>"
      ]
     },
     "metadata": {
      "needs_background": "light"
     },
     "output_type": "display_data"
    },
    {
     "name": "stdout",
     "output_type": "stream",
     "text": [
      "LABEL: 2\n",
      "INPUT:\n"
     ]
    },
    {
     "data": {
      "image/png": "[encoded data removed]",
      "text/plain": [
       "<Figure size 432x288 with 1 Axes>"
      ]
     },
     "metadata": {
      "needs_background": "light"
     },
     "output_type": "display_data"
    },
    {
     "name": "stdout",
     "output_type": "stream",
     "text": [
      "LABEL: 2\n",
      "INPUT:\n"
     ]
    },
    {
     "data": {
      "image/png": "[encoded data removed]",
      "text/plain": [
       "<Figure size 432x288 with 1 Axes>"
      ]
     },
     "metadata": {
      "needs_background": "light"
     },
     "output_type": "display_data"
    },
    {
     "name": "stdout",
     "output_type": "stream",
     "text": [
      "LABEL: 2\n",
      "INPUT:\n"
     ]
    },
    {
     "data": {
      "image/png": "[encoded data removed]",
      "text/plain": [
       "<Figure size 432x288 with 1 Axes>"
      ]
     },
     "metadata": {
      "needs_background": "light"
     },
     "output_type": "display_data"
    },
    {
     "name": "stdout",
     "output_type": "stream",
     "text": [
      "LABEL: 2\n"
     ]
    }
   ],
   "source": [
    "#let's try the plotting function\n",
    "plot_input(X_train,y_train,5)\n",
    "plot_input(X_test,y_test,50)\n",
    "plot_input(X_test,y_test,500)\n",
    "plot_input(X_test,y_test,700)"
   ]
  },
  {
   "cell_type": "markdown",
   "metadata": {},
   "source": [
    "## TO DO 1\n",
    "Use a SVM classifier with cross validation to pick a model. Use a 4-fold cross-validation. Let's start with a Linear kernel:"
   ]
  },
  {
   "cell_type": "code",
   "execution_count": 8,
   "metadata": {
    "scrolled": false
   },
   "outputs": [
    {
     "name": "stdout",
     "output_type": "stream",
     "text": [
      "RESULTS FOR LINEAR KERNEL\n",
      "Best parameters set found:\n",
      "{'C': 0.01}\n",
      "Score with best parameters:\n",
      "0.7716666666666667\n",
      "All scores on the grid:\n",
      "[{'C': 0.01}, {'C': 0.1}, {'C': 1}, {'C': 10}]\n",
      "[0.77166667 0.75333333 0.75333333 0.75333333]\n"
     ]
    }
   ],
   "source": [
    "#import SVC\n",
    "from sklearn.svm import SVC\n",
    "#import for Cross-Validation\n",
    "from sklearn.model_selection import GridSearchCV\n",
    "\n",
    "# parameters for linear SVM\n",
    "parameters = {'C': [0.01, 0.1, 1, 10]} # C=1/lamda \n",
    "\n",
    "\n",
    "#train linear SVM\n",
    "\n",
    "print ('RESULTS FOR LINEAR KERNEL')\n",
    "SVC_lin = SVC(kernel='linear')\n",
    "SVC_lin.fit(X_train, y_train) \n",
    "SVC_pred = SVC_lin.predict(X_test) \n",
    "#print(classification_report(y_test, SVC_pred))\n",
    "\n",
    "print(\"Best parameters set found:\")\n",
    "\n",
    "grid_lin = GridSearchCV(SVC_lin,\n",
    "                      param_grid=parameters,\n",
    "                      cv=4)\n",
    "\n",
    "grid_lin.fit(X_train, y_train)\n",
    "print(grid_lin.best_params_)\n",
    "\n",
    "print(\"Score with best parameters:\")\n",
    "best_score = grid_lin.best_score_\n",
    "print(best_score)\n",
    "\n",
    "print(\"All scores on the grid:\")\n",
    "grid_lin_pred= grid_lin.predict(X_test) \n",
    "print(grid_lin.cv_results_['params'])\n",
    "print(grid_lin.cv_results_['mean_test_score'])"
   ]
  },
  {
   "cell_type": "markdown",
   "metadata": {},
   "source": [
    "## TO DO 2\n",
    "Pick a model for the Polynomial kernel with degree=2:"
   ]
  },
  {
   "cell_type": "code",
   "execution_count": 9,
   "metadata": {},
   "outputs": [
    {
     "name": "stdout",
     "output_type": "stream",
     "text": [
      "RESULTS FOR POLY DEGREE=2 KERNEL\n",
      "Best parameters set found:\n",
      "{'C': 0.1, 'gamma': 0.1}\n",
      "Score with best parameters:\n",
      "0.795\n",
      "\n",
      "All scores on the grid:\n",
      "[{'C': 0.01, 'gamma': 0.01}, {'C': 0.01, 'gamma': 0.1}, {'C': 0.01, 'gamma': 1}, {'C': 0.1, 'gamma': 0.01}, {'C': 0.1, 'gamma': 0.1}, {'C': 0.1, 'gamma': 1}, {'C': 1, 'gamma': 0.01}, {'C': 1, 'gamma': 0.1}, {'C': 1, 'gamma': 1}]\n",
      "[0.12333333 0.79       0.78833333 0.495      0.795      0.78833333\n",
      " 0.79       0.78833333 0.78833333]\n"
     ]
    }
   ],
   "source": [
    "# parameters for poly with degree 2 kernel\n",
    "parameters = {'C': [0.01, 0.1, 1],'gamma':[0.01,0.1,1]}\n",
    "\n",
    "#run SVM with poly of degree 2 kernel\n",
    "\n",
    "SVC_poly2 = SVC(kernel='poly', degree=2)\n",
    "\n",
    "print ('RESULTS FOR POLY DEGREE=2 KERNEL')\n",
    "print(\"Best parameters set found:\")\n",
    "\n",
    "grid_poly2 = GridSearchCV(SVC_poly2,\n",
    "                      param_grid=parameters,\n",
    "                      cv=4)\n",
    "\n",
    "grid_poly2.fit(X_train, y_train)\n",
    "print(grid_poly2.best_params_)\n",
    "\n",
    "print(\"Score with best parameters:\")\n",
    "best_score = grid_poly2.best_score_\n",
    "print(best_score)\n",
    "\n",
    "print(\"\\nAll scores on the grid:\")\n",
    "print(grid_poly2.cv_results_['params'])\n",
    "print(grid_poly2.cv_results_['mean_test_score'])"
   ]
  },
  {
   "cell_type": "markdown",
   "metadata": {},
   "source": [
    "## TO DO 3\n",
    "\n",
    "Now let's try a higher degree for the polynomial kernel (e.g., 3rd degree)."
   ]
  },
  {
   "cell_type": "code",
   "execution_count": 10,
   "metadata": {},
   "outputs": [
    {
     "name": "stdout",
     "output_type": "stream",
     "text": [
      "RESULTS FOR POLY DEGREE= 3  KERNEL\n",
      "Best parameters set found:\n",
      "{'C': 0.01, 'gamma': 0.1}\n",
      "Score with best parameters:\n",
      "0.7366666666666666\n",
      "\n",
      "All scores on the grid:\n",
      "[{'C': 0.01, 'gamma': 0.01}, {'C': 0.01, 'gamma': 0.1}, {'C': 0.01, 'gamma': 1}, {'C': 0.1, 'gamma': 0.01}, {'C': 0.1, 'gamma': 0.1}, {'C': 0.1, 'gamma': 1}, {'C': 1, 'gamma': 0.01}, {'C': 1, 'gamma': 0.1}, {'C': 1, 'gamma': 1}]\n",
      "[0.12333333 0.73666667 0.72166667 0.40666667 0.72166667 0.72166667\n",
      " 0.70833333 0.72166667 0.72166667]\n"
     ]
    }
   ],
   "source": [
    "# parameters for poly with higher degree kernel\n",
    "parameters = {'C': [0.01, 0.1, 1],'gamma':[0.01,0.1,1]}\n",
    "\n",
    "#run SVM with poly of higher degree kernel\n",
    "degree = 3\n",
    "\n",
    "SVC_poly3 = SVC(kernel='poly', degree=3)\n",
    "grid_poly3 = GridSearchCV(SVC_poly3,\n",
    "                      param_grid=parameters,\n",
    "                      cv=4)\n",
    "grid_poly3.fit(X_train, y_train)\n",
    "print ('RESULTS FOR POLY DEGREE=', degree, ' KERNEL')\n",
    "print(\"Best parameters set found:\")\n",
    "\n",
    "print(grid_poly3.best_params_)\n",
    "\n",
    "print(\"Score with best parameters:\")\n",
    "best_score = grid_poly3.best_score_\n",
    "print(best_score)\n",
    "\n",
    "print(\"\\nAll scores on the grid:\")\n",
    "print(grid_poly3.cv_results_['params'])\n",
    "print(grid_poly3.cv_results_['mean_test_score'])"
   ]
  },
  {
   "cell_type": "markdown",
   "metadata": {},
   "source": [
    "## TO DO 4\n",
    "Pick a model for the Radial Basis Function kernel:"
   ]
  },
  {
   "cell_type": "code",
   "execution_count": 11,
   "metadata": {},
   "outputs": [
    {
     "name": "stdout",
     "output_type": "stream",
     "text": [
      "RESULTS FOR rbf KERNEL\n",
      "Best parameters set found:\n",
      "{'C': 10, 'gamma': 0.01}\n",
      "Score with best parameters:\n",
      "0.8166666666666667\n",
      "\n",
      "All scores on the grid:\n",
      "[{'C': 0.1, 'gamma': 0.001}, {'C': 0.1, 'gamma': 0.01}, {'C': 0.1, 'gamma': 0.1}, {'C': 0.1, 'gamma': 1}, {'C': 1, 'gamma': 0.001}, {'C': 1, 'gamma': 0.01}, {'C': 1, 'gamma': 0.1}, {'C': 1, 'gamma': 1}, {'C': 10, 'gamma': 0.001}, {'C': 10, 'gamma': 0.01}, {'C': 10, 'gamma': 0.1}, {'C': 10, 'gamma': 1}, {'C': 100, 'gamma': 0.001}, {'C': 100, 'gamma': 0.01}, {'C': 100, 'gamma': 0.1}, {'C': 100, 'gamma': 1}]\n",
      "[0.12333333 0.23666667 0.12333333 0.12333333 0.63       0.79333333\n",
      " 0.135      0.12333333 0.78333333 0.81666667 0.14       0.12333333\n",
      " 0.78166667 0.81666667 0.14       0.12333333]\n"
     ]
    }
   ],
   "source": [
    "# parameters for rbf SVM\n",
    "parameters = {'C': [0.1, 1, 10, 100],'gamma':[0.001, 0.01, 0.1,1]}\n",
    "\n",
    "#run SVM with rbf kernel\n",
    "\n",
    "SVC_rbf = SVC(kernel='rbf')\n",
    "SVC_rbf.fit(X_train, y_train) \n",
    "grid_rbf = GridSearchCV(SVC_rbf,\n",
    "                      param_grid=parameters,\n",
    "                      cv=4)\n",
    "grid_rbf.fit(X_train, y_train)\n",
    "print ('RESULTS FOR rbf KERNEL')\n",
    "print(\"Best parameters set found:\")\n",
    "print(grid_rbf.best_params_)\n",
    "\n",
    "print(\"Score with best parameters:\")\n",
    "best_score = grid_rbf.best_score_\n",
    "print(best_score)\n",
    "\n",
    "print(\"\\nAll scores on the grid:\")\n",
    "print(grid_rbf.cv_results_['params'])\n",
    "print(grid_rbf.cv_results_['mean_test_score'])"
   ]
  },
  {
   "cell_type": "markdown",
   "metadata": {},
   "source": [
    "## QUESTION 1\n",
    "What do you observe when using linear, polynomial and RBF kernels on this dataset ?\n",
    "\n",
    "\n",
    "rbf had the best score\n",
    "Best value comparison\n",
    "\n",
    "linear {'C': 0.01} 0.7716666666666667\n",
    "\n",
    "poly2 {'C': 0.1, 'gamma': 0.1} 0.795\n",
    "\n",
    "poly3 {'C': 0.01, 'gamma': 0.1} 0.7366666666666666\n",
    "\n",
    "rbf {'C': 10, 'gamma': 0.01} 0.8166666666666667"
   ]
  },
  {
   "cell_type": "markdown",
   "metadata": {},
   "source": [
    "## TO DO 5\n",
    "Report here the best SVM kernel and parameters"
   ]
  },
  {
   "cell_type": "code",
   "execution_count": 12,
   "metadata": {},
   "outputs": [
    {
     "name": "stdout",
     "output_type": "stream",
     "text": [
      "Best value comparison\n",
      "linear {'C': 0.01} 0.7716666666666667\n",
      "poly2 {'C': 0.1, 'gamma': 0.1} 0.795\n",
      "poly3 {'C': 0.01, 'gamma': 0.1} 0.7366666666666666\n",
      "rbf {'C': 10, 'gamma': 0.01}\n",
      "Best SVM training error: 0.018333\n",
      "Best SVM test error: 0.203250\n"
     ]
    }
   ],
   "source": [
    "#get training and test error for the best SVM model from CV\n",
    "print('Best value comparison')\n",
    "\n",
    "print('linear',  grid_lin.best_params_, grid_lin.best_score_)\n",
    "print('poly2',  grid_poly2.best_params_, grid_poly2.best_score_)\n",
    "print('poly3',  grid_poly3.best_params_, grid_poly3.best_score_)\n",
    "print('rbf',  grid_rbf.best_params_, )\n",
    "\n",
    "best_SVM = SVC(kernel='rbf', gamma=0.01)\n",
    "best_SVM.fit(X_train, y_train)\n",
    "\n",
    "\n",
    "training_error = 1 - best_SVM.score(X_train,y_train)\n",
    "# (error is 1 - svm.score)\n",
    "test_error = 1 - best_SVM.score(X_test,y_test)\n",
    "print (\"Best SVM training error: %f\" % training_error)\n",
    "print (\"Best SVM test error: %f\" % test_error)"
   ]
  },
  {
   "cell_type": "markdown",
   "metadata": {},
   "source": [
    "## TO DO 6\n",
    "\n",
    "Analyze how the gamma parameter (inversely proportional to standard deviation of Gaussian Kernel) impact the performances of the classifier"
   ]
  },
  {
   "cell_type": "code",
   "execution_count": 13,
   "metadata": {},
   "outputs": [
    {
     "name": "stdout",
     "output_type": "stream",
     "text": [
      "[1.e-05 1.e-04 1.e-03 1.e-02 1.e-01 1.e+00 1.e+01 1.e+02]\n"
     ]
    }
   ],
   "source": [
    "#Test with different values of gamma\n",
    "\n",
    "# Set gamma values\n",
    "gamma_values = np.logspace(-5,2,8)\n",
    "print(gamma_values)\n"
   ]
  },
  {
   "cell_type": "code",
   "execution_count": 14,
   "metadata": {},
   "outputs": [
    {
     "name": "stdout",
     "output_type": "stream",
     "text": [
      "Gamma =  1e-05\n",
      "Gamma =  0.0001\n",
      "Gamma =  0.001\n",
      "Gamma =  0.01\n",
      "Gamma =  0.1\n",
      "Gamma =  1.0\n",
      "Gamma =  10.0\n",
      "Gamma =  100.0\n"
     ]
    },
    {
     "data": {
      "image/png": "[encoded data removed]",
      "text/plain": [
       "<Figure size 1080x360 with 2 Axes>"
      ]
     },
     "metadata": {
      "needs_background": "light"
     },
     "output_type": "display_data"
    }
   ],
   "source": [
    "# Try the SVM with the previously set values of gamma\n",
    "# use rbf kernel and C=1\n",
    "\n",
    "train_acc_list, test_acc_list = [], []\n",
    "\n",
    "for g in gamma_values:\n",
    "    print('Gamma = ', g)\n",
    "    SVM_rbf_gamma = SVC(kernel='rbf', gamma=g, C=1)\n",
    "    SVM_rbf_gamma.fit(X_train,y_train)\n",
    "    train_acc_list.append(SVM_rbf_gamma.score(X_train,y_train))\n",
    "    test_acc_list.append(SVM_rbf_gamma.score(X_test,y_test))\n",
    "\n",
    "    \n",
    "# ADD YOUR CODE TO TRAIN THE SVM MULTIPLE TIMES WITH THE DIFFERENT VALUES OF GAMMA\n",
    "# PLACE THE TRAIN AND TEST ACCURACY FOR EACH TEST IN THE TRAIN AND TEST ACCURACY LISTS\n",
    "\n",
    "# Plot\n",
    "fig, ax = plt.subplots(1,2, figsize=(15,5))\n",
    "\n",
    "ax[0].plot(gamma_values, train_acc_list)\n",
    "ax[0].set_xscale('log')\n",
    "ax[0].set_xlabel('gamma')\n",
    "ax[0].set_ylabel('Train accuracy')\n",
    "ax[0].grid(True)\n",
    "\n",
    "ax[1].plot(gamma_values, test_acc_list)\n",
    "ax[1].set_xscale('log')\n",
    "ax[1].set_xlabel('gamma')\n",
    "ax[1].set_ylabel('Test accuracy')\n",
    "ax[1].grid(True)\n",
    "\n",
    "\n",
    "plt.show()"
   ]
  },
  {
   "cell_type": "markdown",
   "metadata": {},
   "source": [
    "## QUESTION 2\n",
    "How do the train and test error change when changing gamma ? Which is the best value of gamma ? \n",
    "Connect your answers to the discussion about the overfitting issue.\n",
    "\n",
    "In training it appears that the test error reaches a maximum and stays there. However in the test we can see that overfitting reduces the accuracy significantly after the optimal value of gamma has passed.   "
   ]
  },
  {
   "cell_type": "markdown",
   "metadata": {},
   "source": [
    "## More data\n",
    "Now let's do the same but using more data points for training.\n",
    "\n",
    "\n",
    "Choose a new number of data points."
   ]
  },
  {
   "cell_type": "code",
   "execution_count": 15,
   "metadata": {},
   "outputs": [
    {
     "name": "stdout",
     "output_type": "stream",
     "text": [
      "Labels in training dataset:  [0 1 2 3 4 5 6 7 8 9]\n",
      "Frequencies in training dataset:  [187 208 208 205 175 189 204 223 209 192]\n"
     ]
    }
   ],
   "source": [
    "X = X[permutation]\n",
    "y = y[permutation]\n",
    "\n",
    "m_training = 2000 # TODO number of data points, adjust depending on the capabilities of your PC\n",
    "\n",
    "X_train, X_test = X[:m_training], X[m_training:]\n",
    "y_train, y_test = y[:m_training], y[m_training:]\n",
    "\n",
    "labels, freqs = np.unique(y_train, return_counts=True)\n",
    "print(\"Labels in training dataset: \", labels)\n",
    "print(\"Frequencies in training dataset: \", freqs)"
   ]
  },
  {
   "cell_type": "markdown",
   "metadata": {},
   "source": [
    "## TO DO 7\n",
    "\n",
    "Let's try to use SVM with parameters obtained from the best model for $m_{training} =  2000$. Since it may take a long time to run, you can decide to just let it run for some time and stop it if it does not complete. If you decide to do this, report it in the cell below."
   ]
  },
  {
   "cell_type": "code",
   "execution_count": 16,
   "metadata": {
    "scrolled": true
   },
   "outputs": [
    {
     "name": "stdout",
     "output_type": "stream",
     "text": [
      "Best SVM training error: 0.018333\n",
      "Best SVM test error: 0.128448\n"
     ]
    }
   ],
   "source": [
    "#get training and test error for the best SVM model from CV\n",
    "\n",
    "b_SVM_2000 = SVC(kernel='rbf', gamma=0.01)\n",
    "b_SVM_2000.fit(X_train, y_train)\n",
    "\n",
    "b_SVM_2000_train_score = b_SVM_2000.score(X_train,y_train)\n",
    "b_SVM_2000_test_score = b_SVM_2000.score(X_test,y_test)\n",
    "\n",
    "\n",
    "train_error = 1 - b_SVM_2000_train_score\n",
    "test_error = 1 - b_SVM_2000_test_score\n",
    "\n",
    "print (\"Best SVM training error: %f\" % training_error)\n",
    "print (\"Best SVM test error: %f\" % test_error)"
   ]
  },
  {
   "cell_type": "markdown",
   "metadata": {},
   "source": [
    "2000 Run \n",
    "\n",
    "Best SVM training error: 0.183333\n",
    "\n",
    "Best SVM test error: 0.128448"
   ]
  },
  {
   "cell_type": "markdown",
   "metadata": {},
   "source": [
    "Just for comparison, let's also use logistic regression \n",
    "\n",
    "## TO DO 8 Try first without regularization (use a very large large C)¶"
   ]
  },
  {
   "cell_type": "code",
   "execution_count": 25,
   "metadata": {},
   "outputs": [
    {
     "name": "stdout",
     "output_type": "stream",
     "text": [
      "Best logistic regression training error: 0.018333\n",
      "Best logistic regression test error: 0.288086\n"
     ]
    }
   ],
   "source": [
    "from sklearn import linear_model\n",
    "\n",
    "logreg = linear_model.LogisticRegression(C=1e5, max_iter =1000) #a large C disables regularization\n",
    "logreg.fit(X_train,y_train)\n",
    "\n",
    "train_error = 1 - logreg.score(X_train,y_train)\n",
    "test_error = 1 - logreg.score(X_test,y_test)\n",
    "\n",
    "print (\"Best logistic regression training error: %f\" % training_error)\n",
    "print (\"Best logistic regression test error: %f\" % test_error)"
   ]
  },
  {
   "cell_type": "markdown",
   "metadata": {},
   "source": [
    "## TO DO 9 Try  with regularization (use C=1)¶"
   ]
  },
  {
   "cell_type": "code",
   "execution_count": 23,
   "metadata": {},
   "outputs": [
    {
     "name": "stdout",
     "output_type": "stream",
     "text": [
      "Best regularized logistic regression training error: 0.018333\n",
      "Best regularized logistic regression test error: 0.260931\n"
     ]
    }
   ],
   "source": [
    "logreg_reg = linear_model.LogisticRegression(C=1, max_iter=1000)\n",
    "logreg_reg.fit(X_train,y_train)\n",
    "\n",
    "train_error = 1 - logreg_reg.score(X_train,y_train)\n",
    "test_error = 1 - logreg_reg.score(X_test,y_test)\n",
    "\n",
    "print (\"Best regularized logistic regression training error: %f\" % training_error)\n",
    "print (\"Best regularized logistic regression test error: %f\" % test_error)"
   ]
  },
  {
   "cell_type": "markdown",
   "metadata": {},
   "source": [
    "## QUESTION 3\n",
    "Compare and discuss:\n",
    "- the results from SVM with m=600 and with m=2000 training data points. If you stopped the SVM, include such aspect in your comparison.\n",
    "\n",
    "running with 2000 significantly reduced the test error (from 0.203250 to 0.128448) which is what we would expect with more datapoints as the model should be more accurate. Again the training error was very low which is what we would expect given that these are the points that wer used to orginally tain the model. \n",
    "\n",
    "- the results of SVM and of Logistic Regression\n",
    "\n",
    "Logistic regression was worse than SVM with a test error of (0.288086 and 0.260931 when regularised) we can see that the regularisation did help. It should be noted the linear regression run time was a lot lower than the best SVM  "
   ]
  },
  {
   "cell_type": "markdown",
   "metadata": {},
   "source": [
    "## TO DO 10\n",
    "Plot an item of clothing that is missclassified by logistic regression and correctly classified by SVM."
   ]
  },
  {
   "cell_type": "code",
   "execution_count": 19,
   "metadata": {},
   "outputs": [
    {
     "name": "stdout",
     "output_type": "stream",
     "text": [
      "[6, 7, 10, 19, 24, 25, 33, 34, 45, 57, 60, 65, 68, 81, 83, 95, 104, 108, 119, 120, 126, 133, 136, 139, 143, 147, 152, 160, 161, 162, 164, 172, 173, 179, 187, 192, 197, 204, 210, 211, 233, 245, 249, 251, 253, 257, 259, 277, 280, 283, 292, 293, 296, 303, 310, 313, 330, 342, 346, 349, 352, 360, 361, 364, 367, 371, 376, 379, 393, 395, 400, 401, 403, 405, 409, 433, 434, 448, 462, 474, 482, 494, 497, 510, 517, 518, 533, 534, 542, 546, 554, 557, 575, 578, 595, 599, 601, 602, 604, 618, 633, 636, 642, 644, 661, 664, 666, 671, 673, 678, 680, 685, 688, 694, 700, 715, 731, 739, 746, 749, 751, 756, 763, 764, 779, 794, 802, 818, 826, 844, 849, 852, 856, 860, 864, 871, 872, 876, 891, 912, 917, 925, 930, 937, 938, 939, 945, 959, 968, 976, 977, 978, 992, 998, 1002, 1007, 1016, 1021, 1024, 1029, 1042, 1048, 1054, 1064, 1066, 1072, 1081, 1090, 1094, 1096, 1105, 1111, 1115, 1123, 1133, 1135, 1162, 1185, 1190, 1192, 1197, 1211, 1215, 1234, 1238, 1240, 1254, 1255, 1266, 1268, 1269, 1280, 1281, 1286, 1288, 1302, 1311, 1315, 1316, 1324, 1325, 1343, 1346, 1348, 1371, 1374, 1382, 1385, 1391, 1392, 1397, 1404, 1409, 1420, 1436, 1444, 1447, 1449, 1454, 1456, 1469, 1475, 1482, 1486, 1488, 1501, 1508, 1520, 1523, 1525, 1526, 1528, 1530, 1544, 1548, 1550, 1551, 1576, 1579, 1585, 1593, 1594, 1596, 1597, 1601, 1604, 1616, 1621, 1625, 1631, 1634, 1640, 1669, 1677, 1678, 1692, 1701, 1705, 1713, 1718, 1729, 1731, 1741, 1751, 1760, 1779, 1781, 1787, 1791, 1793, 1814, 1821, 1828, 1829, 1831, 1840, 1842, 1844, 1845, 1850, 1852, 1853, 1857, 1860, 1864, 1869, 1876, 1888, 1893, 1906, 1915, 1933, 1944, 1946, 1957, 1961, 1973, 1983, 1985, 1999, 2004, 2006, 2009, 2011, 2012, 2014, 2028, 2034, 2041, 2042, 2045, 2047, 2053, 2058, 2059, 2062, 2063, 2072, 2083, 2085, 2095, 2103, 2117, 2123, 2129, 2130, 2132, 2133, 2136, 2141, 2146, 2154, 2159, 2170, 2175, 2182, 2193, 2197, 2202, 2214, 2216, 2223, 2229, 2232, 2241, 2245, 2250, 2251, 2256, 2259, 2263, 2267, 2271, 2289, 2297, 2300, 2304, 2309, 2334, 2335, 2340, 2344, 2355, 2358, 2361, 2366, 2376, 2383, 2391, 2393, 2413, 2416, 2423, 2428, 2433, 2434, 2435, 2439, 2442, 2443, 2444, 2468, 2487, 2494, 2500, 2505, 2515, 2520, 2531, 2534, 2540, 2544, 2546, 2549, 2557, 2564, 2574, 2576, 2579, 2582, 2593, 2603, 2606, 2609, 2617, 2618, 2621, 2630, 2645, 2653, 2659, 2670, 2699, 2710, 2725, 2729, 2731, 2732, 2738, 2763, 2770, 2771, 2793, 2797, 2798, 2799, 2801, 2804, 2807, 2813, 2815, 2820, 2822, 2823, 2830, 2833, 2838, 2846, 2849, 2873, 2882, 2893, 2899, 2906, 2910, 2923, 2926, 2940, 2943, 2955, 2958, 2961, 2965, 2979, 2981, 2991, 2993, 2995, 2998, 2999, 3014, 3024, 3032, 3034, 3037, 3069, 3084, 3085, 3101, 3102, 3104, 3114, 3115, 3121, 3126, 3135, 3136, 3141, 3144, 3147, 3155, 3162, 3165, 3169, 3176, 3177, 3185, 3188, 3190, 3195, 3200, 3206, 3220, 3222, 3235, 3240, 3249, 3255, 3285, 3292, 3299, 3325, 3333, 3335, 3350, 3378, 3380, 3385, 3386, 3387, 3402, 3429, 3430, 3436, 3442, 3443, 3461, 3464, 3480, 3498, 3506, 3510, 3515, 3521, 3522, 3523, 3525, 3539, 3540, 3541, 3544, 3560, 3564, 3572, 3584, 3585, 3586, 3598, 3603, 3616, 3637, 3641, 3653, 3684, 3686, 3688, 3692, 3696, 3702, 3703, 3705, 3714, 3719, 3729, 3733, 3740, 3758, 3760, 3765, 3778, 3789, 3800, 3802, 3824, 3831, 3835, 3849, 3850, 3856, 3862, 3869, 3871, 3877, 3879, 3880, 3887, 3892, 3898, 3905, 3924, 3935, 3941, 3951, 3956, 3968, 3971, 3979, 3980, 3991, 3992, 3995, 4006, 4010, 4013, 4019, 4033, 4034, 4042, 4046, 4052, 4053, 4056, 4060, 4066, 4084, 4088, 4100, 4102, 4105, 4107, 4124, 4125, 4133, 4136, 4145, 4147, 4166, 4173, 4174, 4178, 4187, 4196, 4211, 4220, 4223, 4225, 4227, 4236, 4239, 4240, 4245, 4256, 4263, 4275, 4288, 4292, 4296, 4298, 4299, 4301, 4310, 4317, 4321, 4328, 4331, 4333, 4339, 4340, 4341, 4345, 4350, 4370, 4378, 4381, 4400, 4419, 4424, 4425, 4430, 4441, 4443, 4453, 4474, 4484, 4498, 4501, 4508, 4511, 4520, 4527, 4529, 4531, 4534, 4537, 4552, 4557, 4577, 4586, 4595, 4598, 4599, 4602, 4603, 4604, 4619, 4622, 4646, 4652, 4654, 4660, 4665, 4668, 4671, 4676, 4683, 4688, 4695, 4696, 4702, 4705, 4706, 4708, 4713, 4740, 4741, 4743, 4744, 4757, 4767, 4779, 4785, 4791, 4796, 4801, 4804, 4812, 4814, 4822, 4823, 4826, 4834, 4839, 4847, 4848, 4855, 4866, 4870, 4871, 4880, 4881, 4886, 4891, 4896, 4904, 4937, 4944, 4947, 4952, 4960, 4987, 4999, 5003, 5009, 5018, 5019, 5021, 5022, 5055, 5060, 5067, 5079, 5081, 5082, 5085, 5088, 5094, 5095, 5102, 5116, 5120, 5147, 5171, 5179, 5181, 5185, 5208, 5209, 5215, 5216, 5218, 5229, 5231, 5234, 5235, 5236, 5244, 5259, 5271, 5283, 5293, 5294, 5301, 5304, 5305, 5308, 5332, 5336, 5343, 5355, 5356, 5357, 5361, 5363, 5369, 5373, 5379, 5382, 5385, 5391, 5392, 5403, 5414, 5416, 5428, 5445, 5452, 5465, 5473, 5486, 5490, 5500, 5529, 5549, 5561, 5576, 5577, 5584, 5594, 5598, 5629, 5631, 5634, 5647, 5648, 5653, 5662, 5682, 5691, 5712, 5731, 5737, 5740, 5766, 5770, 5773, 5790, 5792, 5798, 5803, 5805, 5810, 5822, 5828, 5831, 5846, 5875, 5876, 5888, 5890, 5897, 5898, 5899, 5913, 5920, 5922, 5929, 5936, 5938, 5943, 5944, 5947, 5951, 5953, 5957, 5958, 5961, 5973, 5994, 5995, 6005, 6014, 6017, 6018, 6026, 6027, 6045, 6047, 6061, 6062, 6064, 6072, 6078, 6091, 6102, 6116, 6118, 6129, 6132, 6153, 6161, 6163, 6168, 6169, 6170, 6177, 6180, 6189, 6197, 6201, 6211, 6218, 6220, 6231, 6233, 6241, 6245, 6248, 6262, 6263, 6267, 6277, 6280, 6281, 6285, 6288, 6292, 6299, 6304, 6306, 6307, 6308, 6309, 6311, 6314, 6320, 6324, 6325, 6338, 6341, 6342, 6344, 6345, 6349, 6351, 6353, 6362, 6376, 6399, 6410, 6429, 6431, 6437, 6446, 6453, 6456, 6465, 6468, 6484, 6492, 6500, 6502, 6507, 6511, 6515, 6517, 6521, 6522, 6537, 6539, 6543, 6555, 6566, 6567, 6570, 6588, 6592, 6593, 6597, 6603, 6608, 6619, 6620, 6627, 6632, 6636, 6641, 6653, 6654, 6657, 6662, 6669, 6687, 6694, 6698, 6705, 6711, 6719, 6721, 6723, 6743, 6746, 6757, 6760, 6762, 6766, 6781, 6783, 6788, 6800, 6801, 6805, 6818, 6826, 6835, 6837, 6842, 6845, 6846, 6852, 6862, 6866, 6870, 6888, 6900, 6901, 6907, 6908, 6911, 6919, 6921, 6930, 6940, 6950, 6959, 6967, 6969, 6971, 6975, 6977, 6978, 6986, 6988, 6994, 6999, 7004, 7011, 7017, 7030, 7031, 7049, 7053, 7062, 7063, 7083, 7085, 7087, 7119, 7124, 7137, 7145, 7158, 7159, 7169, 7172, 7176, 7187, 7189, 7195, 7196, 7198, 7200, 7208, 7210, 7214, 7219, 7230, 7235, 7237, 7244, 7252, 7267, 7269, 7273, 7275, 7280, 7282, 7289, 7295, 7312, 7325, 7328, 7333, 7338, 7352, 7359, 7363, 7375, 7377, 7380, 7390, 7400, 7404, 7405, 7418, 7419, 7424, 7439, 7446, 7447, 7461, 7464, 7477, 7483, 7486, 7488, 7500, 7502, 7508, 7513, 7527, 7531, 7532, 7545, 7548, 7557, 7558, 7586, 7591, 7592, 7595, 7596, 7602, 7604, 7610, 7620, 7624, 7626, 7639, 7645, 7655, 7658, 7660, 7661, 7662, 7680, 7685, 7699, 7703, 7705, 7711, 7713, 7725, 7727, 7733, 7734, 7739, 7747, 7757, 7760, 7776, 7780, 7787, 7788, 7792, 7794, 7806, 7810, 7821, 7829, 7835, 7838, 7841, 7851, 7854, 7860, 7862, 7863, 7870, 7879, 7884, 7894, 7918, 7931, 7935, 7937, 7938, 7939, 7954, 7962, 7964, 7970, 7972, 7973, 7977, 7981, 7984, 7989, 7991, 8000, 8008, 8011, 8027, 8035, 8057, 8062, 8064, 8065, 8067, 8074, 8078, 8081, 8095, 8098, 8111, 8117, 8125, 8150, 8153, 8162, 8167, 8169, 8171, 8175, 8181, 8194, 8196, 8205, 8218, 8221, 8224, 8225, 8227, 8244, 8245, 8264, 8274, 8277, 8283, 8297, 8307, 8308, 8311, 8312, 8315, 8322, 8323, 8333, 8339, 8370, 8384, 8387, 8416, 8425, 8427, 8429, 8445, 8447, 8452, 8463, 8464, 8465, 8484, 8495, 8502, 8511, 8514, 8515, 8521, 8522, 8531, 8538, 8542, 8546, 8552, 8562, 8563, 8576, 8584, 8591, 8593, 8595, 8600, 8614, 8617, 8627, 8637, 8653, 8663, 8672, 8677, 8690, 8704, 8716, 8717, 8730, 8739, 8753, 8766, 8768, 8771, 8775, 8781, 8825, 8833, 8840, 8845, 8849, 8850, 8860, 8864, 8866, 8873, 8885, 8886, 8887, 8891, 8906, 8916, 8923, 8928, 8932, 8949, 8957, 8963, 8964, 8966, 8971, 8976, 8987, 8989, 8995, 8999, 9040, 9050, 9058, 9059, 9060, 9067, 9082, 9089, 9100, 9101, 9102, 9103, 9105, 9117, 9122, 9130, 9131, 9132, 9133, 9138, 9139, 9143, 9155, 9156, 9160, 9162, 9166, 9170, 9171, 9180, 9187, 9196, 9203, 9206, 9210, 9214, 9219, 9225, 9227, 9228, 9230, 9242, 9247, 9253, 9262, 9268, 9270, 9281, 9284, 9287, 9292, 9299, 9311, 9314, 9316, 9321, 9348, 9351, 9368, 9369, 9372, 9375, 9378, 9381, 9388, 9392, 9410, 9455, 9459, 9463, 9469, 9470, 9471, 9474, 9478, 9479, 9481, 9495, 9497, 9503, 9504, 9527, 9534, 9545, 9563, 9564, 9565, 9578, 9583, 9586, 9601, 9602, 9606, 9615, 9616, 9619, 9620, 9627, 9630, 9641, 9663, 9692, 9696, 9704, 9712, 9713, 9719, 9728, 9743, 9746, 9747, 9748, 9755, 9756, 9775, 9797, 9809, 9819, 9821, 9826, 9835, 9839, 9842, 9853, 9860, 9865, 9866, 9868, 9870, 9872, 9888, 9889, 9891, 9896, 9898, 9903, 9904, 9920, 9930, 9934, 9944, 9956, 9958, 9961, 9967, 9973, 9976, 9981, 9983, 9984, 9988, 9990, 10001, 10002, 10006, 10010, 10012, 10017, 10020, 10023, 10026, 10029, 10050, 10057, 10062, 10073, 10075, 10078, 10079, 10085, 10094, 10097, 10098, 10108, 10113, 10117, 10121, 10125, 10130, 10132, 10133, 10134, 10136, 10145, 10146, 10147, 10162, 10166, 10179, 10183, 10184, 10188, 10192, 10198, 10203, 10214, 10225, 10227, 10231, 10233, 10235, 10239, 10240, 10245, 10250, 10251, 10254, 10269, 10271, 10297, 10306, 10308, 10312, 10316, 10317, 10326, 10327, 10349, 10352, 10356, 10357, 10369, 10372, 10373, 10384, 10392, 10412, 10428, 10456, 10467, 10474, 10477, 10479, 10482, 10483, 10486, 10508, 10509, 10522, 10528, 10550, 10560, 10565, 10573, 10576, 10586, 10590, 10591, 10604, 10605, 10609, 10615, 10622, 10625, 10626, 10629, 10633, 10634, 10635, 10643, 10656, 10669, 10676, 10681, 10697, 10704, 10710, 10717, 10721, 10729, 10733, 10736, 10746, 10747, 10748, 10749, 10755, 10757, 10759, 10771, 10792, 10794, 10799, 10803, 10815, 10819, 10824, 10825, 10826, 10831, 10835, 10836, 10837, 10843, 10846, 10847, 10848, 10854, 10857, 10867, 10868, 10877, 10879, 10880, 10883, 10885, 10890, 10897, 10907, 10910, 10911, 10915, 10923, 10924, 10927, 10930, 10933, 10935, 10947, 10958, 10969, 10971, 10972, 10973, 10993, 11001, 11010, 11016, 11027, 11034, 11045, 11047, 11054, 11055, 11061, 11073, 11081, 11083, 11085, 11097, 11113, 11117, 11128, 11129, 11132, 11133, 11141, 11151, 11193, 11200, 11202, 11215, 11222, 11231, 11236, 11237, 11243, 11247, 11249, 11251, 11261, 11264, 11267, 11296, 11298, 11324, 11326, 11329, 11333, 11343, 11362, 11367, 11383, 11386, 11388, 11404, 11418, 11424, 11427, 11434, 11445, 11451, 11455, 11459, 11464, 11467, 11471, 11474, 11478, 11484, 11490, 11499, 11500, 11501, 11513, 11515, 11519, 11523, 11525, 11528, 11531, 11533, 11547, 11549, 11557, 11565, 11580, 11585, 11588, 11591, 11599, 11600, 11608, 11622, 11629, 11637, 11643, 11646, 11647, 11655, 11662, 11667, 11668, 11682, 11701, 11711, 11713, 11728, 11737, 11740, 11744, 11751, 11755, 11756, 11770, 11793, 11796, 11797, 11809, 11819, 11826, 11831, 11841, 11842, 11849, 11857, 11858, 11859, 11860, 11863, 11870, 11877, 11884, 11887, 11896, 11906, 11907, 11924, 11935, 11936, 11944, 11954, 11963, 11976, 11978, 11980, 11982, 12000, 12008, 12012, 12016, 12017, 12020, 12021, 12024, 12026, 12032, 12080, 12084, 12085, 12086, 12096, 12111, 12112, 12116, 12122, 12131, 12156, 12160, 12161, 12189, 12191, 12193, 12202, 12203, 12208, 12214, 12216, 12237, 12266, 12269, 12274, 12284, 12297, 12299, 12304, 12305, 12309, 12310, 12320, 12327, 12330, 12334, 12335, 12338, 12340, 12347, 12354, 12364, 12365, 12367, 12368, 12376, 12382, 12390, 12393, 12421, 12422, 12432, 12436, 12438, 12449, 12462, 12467, 12471, 12490, 12492, 12500, 12502, 12516, 12526, 12530, 12539, 12552, 12554, 12557, 12567, 12578, 12583, 12588, 12589, 12591, 12613, 12628, 12633, 12637, 12638, 12647, 12656, 12660, 12663, 12671, 12685, 12693, 12698, 12715, 12716, 12724, 12727, 12740, 12741, 12743, 12745, 12753, 12764, 12769, 12773, 12774, 12775, 12780, 12801, 12808, 12813, 12816, 12818, 12829, 12836, 12855, 12875, 12876, 12877, 12891, 12895, 12917, 12919, 12927, 12938, 12942, 12952, 12964, 12971, 12972, 12978, 12980, 12995, 13012, 13014, 13015, 13027, 13040, 13046, 13050, 13055, 13069, 13070, 13079, 13086, 13099, 13102, 13111, 13117, 13122, 13129, 13161, 13169, 13174, 13181, 13182, 13184, 13189, 13193, 13195, 13196, 13202, 13205, 13213, 13215, 13220, 13224, 13246, 13247, 13268, 13270, 13272, 13278, 13281, 13286, 13290, 13300, 13305, 13317, 13319, 13323, 13325, 13332, 13333, 13336, 13340, 13343, 13346, 13350, 13351, 13353, 13363, 13365, 13366, 13369, 13385, 13394, 13406, 13443, 13460, 13465, 13471, 13480, 13516, 13519, 13525, 13529, 13537, 13551, 13557, 13560, 13571, 13576, 13579, 13596, 13603, 13606, 13624, 13625, 13627, 13628, 13641, 13645, 13654, 13663, 13683, 13694, 13696, 13705, 13710, 13712, 13713, 13718, 13734, 13736, 13738, 13748, 13753, 13758, 13764, 13766, 13789, 13797, 13806, 13832, 13834, 13835, 13842, 13848, 13849, 13852, 13869, 13875, 13891, 13903, 13913, 13925, 13938, 13939, 13942, 13947, 13950, 13963, 13968, 13998, 13999, 14000, 14005, 14016, 14021, 14026, 14030, 14036, 14041, 14043, 14044, 14046, 14053, 14063, 14065, 14071, 14081, 14091, 14096, 14100, 14108, 14120, 14136, 14142, 14144, 14153, 14157, 14162, 14167, 14171, 14174, 14179, 14188, 14196, 14199, 14209, 14222, 14225, 14233, 14237, 14239, 14252, 14261, 14263, 14275, 14279, 14281, 14289, 14290, 14293, 14294, 14299, 14311, 14313, 14322, 14323, 14324, 14334, 14335, 14348, 14356, 14361, 14392, 14403, 14405, 14415, 14416, 14417, 14430, 14435, 14436, 14437, 14457, 14475, 14478, 14480, 14490, 14491, 14496, 14497, 14501, 14502, 14504, 14508, 14509, 14517, 14524, 14525, 14534, 14549, 14553, 14558, 14566, 14570, 14574, 14577, 14582, 14589, 14593, 14594, 14597, 14605, 14609, 14612, 14624, 14626, 14651, 14659, 14663, 14671, 14677, 14682, 14683, 14687, 14691, 14698, 14703, 14705, 14707, 14712, 14717, 14719, 14723, 14726, 14743, 14748, 14756, 14764, 14769, 14779, 14782, 14806, 14807, 14809, 14818, 14825, 14829, 14832, 14842, 14846, 14860, 14865, 14885, 14887, 14893, 14895, 14910, 14913, 14914, 14943, 14954, 14977, 14984, 14989, 15007, 15010, 15011, 15017, 15021, 15022, 15028, 15041, 15043, 15046, 15053, 15059, 15065, 15066, 15076, 15077, 15086, 15088, 15117, 15119, 15121, 15124, 15127, 15135, 15137, 15143, 15146, 15150, 15162, 15163, 15168, 15173, 15189, 15194, 15203, 15206, 15207, 15215, 15217, 15221, 15230, 15231, 15233, 15237, 15246, 15248, 15250, 15254, 15257, 15266, 15274, 15275, 15280, 15286, 15310, 15320, 15326, 15329, 15332, 15350, 15356, 15359, 15365, 15369, 15377, 15381, 15384, 15390, 15395, 15403, 15405, 15409, 15423, 15424, 15429, 15433, 15434, 15436, 15445, 15451, 15452, 15455, 15456, 15464, 15468, 15471, 15477, 15479, 15482, 15486, 15512, 15515, 15519, 15528, 15534, 15541, 15547, 15549, 15552, 15570, 15576, 15577, 15595, 15596, 15600, 15608, 15619, 15620, 15630, 15632, 15661, 15662, 15676, 15683, 15685, 15690, 15691, 15692, 15693, 15699, 15703, 15704, 15710, 15714, 15715, 15717, 15724, 15733, 15755, 15758, 15767, 15770, 15771, 15775, 15779, 15785, 15795, 15803, 15817, 15818, 15820, 15830, 15842, 15843, 15846, 15867, 15868, 15869, 15878, 15881, 15902, 15903, 15909, 15910, 15911, 15915, 15918, 15922, 15932, 15940, 15982, 15987, 15991, 15992, 15996, 16006, 16009, 16016, 16018, 16020, 16031, 16037, 16044, 16045, 16051, 16063, 16064, 16066, 16069, 16121, 16122, 16137, 16145, 16149, 16152, 16153, 16158, 16184, 16196, 16198, 16199, 16201, 16207, 16210, 16219, 16225, 16226, 16228, 16230, 16234, 16242, 16243, 16255, 16259, 16269, 16275, 16279, 16283, 16297, 16300, 16301, 16306, 16308, 16320, 16340, 16353, 16362, 16368, 16374, 16383, 16402, 16406, 16410, 16413, 16429, 16432, 16433, 16443, 16448, 16452, 16456, 16462, 16463, 16469, 16471, 16473, 16482, 16487, 16489, 16490, 16492, 16495, 16508, 16516, 16532, 16536, 16541, 16567, 16576, 16581, 16590, 16609, 16623, 16627, 16652, 16654, 16657, 16662, 16681, 16700, 16712, 16720, 16724, 16742, 16768, 16805, 16814, 16815, 16817, 16832, 16838, 16848, 16850, 16867, 16883, 16891, 16908, 16911, 16918, 16921, 16922, 16937, 16939, 16946, 16947, 16950, 16958, 16960, 16961, 16974, 16981, 16987, 16990, 16994, 16995, 16998, 17002, 17004, 17010, 17018, 17050, 17054, 17067, 17070, 17072, 17079, 17080, 17081, 17096, 17099, 17128, 17131, 17137, 17142, 17149, 17151, 17159, 17166, 17171, 17181, 17187, 17188, 17194, 17198, 17200, 17202, 17207, 17208, 17232, 17234, 17236, 17247, 17259, 17263, 17272, 17275, 17283, 17286, 17296, 17297, 17298, 17301, 17307, 17321, 17332, 17337, 17352, 17353, 17357, 17359, 17373, 17383, 17384, 17386, 17387, 17392, 17398, 17412, 17426, 17433, 17443, 17447, 17449, 17455, 17470, 17473, 17474, 17475, 17482, 17486, 17503, 17505, 17515, 17517, 17523, 17528, 17531, 17536, 17541, 17545, 17564, 17568, 17570, 17580, 17584, 17601, 17602, 17603, 17611, 17614, 17616, 17618, 17621, 17624, 17655, 17657, 17660, 17662, 17672, 17677, 17679, 17696, 17704, 17705, 17706, 17711, 17748, 17750, 17753, 17761, 17763, 17768, 17789, 17809, 17814, 17826, 17837, 17847, 17852, 17854, 17863, 17882, 17890, 17897, 17901, 17911, 17920, 17927, 17930, 17944, 17945, 17958, 17963, 17964, 17977, 17993, 18002, 18006, 18008, 18018, 18023, 18027, 18029, 18064, 18066, 18068, 18076, 18079, 18080, 18088, 18089, 18092, 18102, 18127, 18130, 18131, 18142, 18143, 18149, 18156, 18177, 18186, 18198, 18203, 18208, 18212, 18215, 18223, 18230, 18233, 18236, 18237, 18239, 18253, 18258, 18264, 18276, 18281, 18283, 18300, 18302, 18305, 18318, 18320, 18322, 18325, 18330, 18334, 18338, 18342, 18352, 18361, 18370, 18371, 18375, 18389, 18400, 18410, 18411, 18422, 18440, 18444, 18450, 18461, 18464, 18483, 18497, 18500, 18502, 18505, 18507, 18523, 18535, 18542, 18553, 18554, 18560, 18564, 18565, 18569, 18573, 18576, 18584, 18602, 18609, 18616, 18630, 18645, 18655, 18660, 18666, 18675, 18682, 18684, 18697, 18699, 18702, 18704, 18705, 18708, 18714, 18715, 18725, 18738, 18739, 18750, 18754, 18757, 18759, 18764, 18774, 18775, 18786, 18792, 18796, 18814, 18815, 18820, 18822, 18824, 18826, 18843, 18849, 18856, 18858, 18860, 18864, 18881, 18882, 18885, 18898, 18903, 18904, 18912, 18917, 18918, 18922, 18924, 18926, 18933, 18938, 18954, 18957, 18979, 18984, 18988, 18991, 18994, 18997, 19000, 19011, 19018, 19022, 19023, 19024, 19029, 19057, 19060, 19061, 19062, 19077, 19084, 19091, 19097, 19103, 19104, 19112, 19125, 19131, 19136, 19139, 19140, 19143, 19150, 19151, 19156, 19159, 19167, 19170, 19173, 19176, 19177, 19182, 19198, 19203, 19210, 19212, 19217, 19218, 19223, 19225, 19230, 19232, 19235, 19237, 19239, 19248, 19257, 19264, 19270, 19280, 19283, 19288, 19289, 19295, 19301, 19303, 19330, 19336, 19343, 19355, 19363, 19372, 19375, 19378, 19380, 19381, 19382, 19386, 19392, 19396, 19403, 19412, 19414, 19415, 19419, 19433, 19438, 19442, 19444, 19449, 19452, 19461, 19464, 19471, 19474, 19478, 19487, 19489, 19492, 19495, 19496, 19498, 19513, 19516, 19522, 19527, 19549, 19558, 19561, 19588, 19591, 19602, 19616, 19625, 19627, 19633, 19653, 19661, 19669, 19681, 19682, 19683, 19685, 19692, 19697, 19709, 19713, 19721, 19742, 19752, 19756, 19757, 19764, 19780, 19785, 19814, 19818, 19830, 19836, 19845, 19850, 19854, 19858, 19863, 19868, 19872, 19873, 19876, 19880, 19887, 19904, 19915, 19931, 19940, 19944, 19951, 19957, 19959, 19962, 19963, 19971, 19980, 19982, 19990, 19992, 20001, 20004, 20005, 20013, 20015, 20016, 20024, 20041, 20045, 20055, 20072, 20081, 20086, 20089, 20096, 20101, 20114, 20116, 20117, 20119, 20146, 20148, 20157, 20165, 20167, 20187, 20190, 20194, 20196, 20198, 20202, 20214, 20220, 20221, 20225, 20226, 20235, 20241, 20243, 20252, 20254, 20256, 20264, 20265, 20266, 20267, 20277, 20280, 20282, 20291, 20292, 20299, 20305, 20310, 20311, 20316, 20317, 20337, 20352, 20354, 20361, 20363, 20366, 20372, 20389, 20392, 20394, 20409, 20411, 20412, 20417, 20418, 20421, 20426, 20429, 20441, 20451, 20458, 20461, 20465, 20474, 20478, 20481, 20484, 20516, 20521, 20530, 20545, 20554, 20578, 20581, 20587, 20589, 20594, 20595, 20598, 20614, 20620, 20624, 20642, 20668, 20673, 20679, 20689, 20697, 20700, 20703, 20707, 20728, 20731, 20735, 20741, 20749, 20765, 20774, 20789, 20804, 20807, 20825, 20840, 20843, 20844, 20865, 20869, 20874, 20875, 20881, 20887, 20889, 20890, 20897, 20910, 20911, 20923, 20925, 20932, 20933, 20942, 20943, 20946, 20949, 20957, 20979, 20982, 20991, 20993, 21012, 21021, 21023, 21027, 21029, 21030, 21058, 21059, 21068, 21070, 21078, 21080, 21093, 21101, 21111, 21113, 21120, 21122, 21132, 21133, 21140, 21150, 21153, 21160, 21166, 21168, 21174, 21187, 21188, 21194, 21196, 21201, 21206, 21207, 21211, 21213, 21228, 21229, 21231, 21239, 21241, 21257, 21263, 21275, 21278, 21281, 21292, 21302, 21305, 21307, 21308, 21309, 21315, 21316, 21317, 21326, 21340, 21341, 21351, 21352, 21357, 21359, 21360, 21371, 21379, 21382, 21384, 21392, 21407, 21431, 21442, 21453, 21459, 21461, 21477, 21478, 21488, 21491, 21506, 21514, 21527, 21530, 21532, 21538, 21546, 21552, 21560, 21567, 21568, 21569, 21570, 21572, 21573, 21593, 21597, 21598, 21610, 21613, 21614, 21615, 21617, 21628, 21631, 21634, 21638, 21641, 21648, 21659, 21678, 21687, 21703, 21709, 21730, 21733, 21735, 21736, 21737, 21745, 21752, 21753, 21758, 21759, 21760, 21765, 21767, 21768, 21769, 21780, 21784, 21796, 21799, 21805, 21807, 21810, 21817, 21838, 21854, 21858, 21863, 21868, 21878, 21882, 21884, 21911, 21922, 21928, 21931, 21935, 21942, 21946, 21961, 21964, 21968, 21970, 21984, 21994, 22004, 22024, 22027, 22029, 22054, 22055, 22059, 22066, 22070, 22092, 22106, 22107, 22119, 22123, 22128, 22132, 22145, 22148, 22153, 22157, 22162, 22165, 22170, 22172, 22174, 22188, 22201, 22210, 22211, 22218, 22222, 22226, 22228, 22252, 22261, 22264, 22267, 22270, 22278, 22280, 22282, 22288, 22291, 22294, 22300, 22303, 22305, 22307, 22312, 22313, 22314, 22315, 22316, 22317, 22327, 22328, 22346, 22350, 22357, 22377, 22397, 22398, 22401, 22404, 22408, 22415, 22416, 22419, 22422, 22431, 22432, 22450, 22453, 22455, 22474, 22485, 22488, 22493, 22505, 22507, 22511, 22512, 22514, 22516, 22517, 22523, 22553, 22555, 22571, 22575, 22579, 22588, 22595, 22608, 22610, 22613, 22619, 22626, 22627, 22629, 22634, 22649, 22650, 22656, 22659, 22665, 22666, 22670, 22674, 22687, 22692, 22693, 22698, 22699, 22710, 22711, 22720, 22723, 22729, 22732, 22738, 22741, 22743, 22765, 22769, 22772, 22779, 22780, 22787, 22799, 22823, 22825, 22834, 22847, 22850, 22851, 22856, 22860, 22866, 22867, 22887, 22894, 22895, 22906, 22936, 22941, 22947, 22972, 22977, 22995, 22996, 23007, 23018, 23019, 23036, 23038, 23049, 23062, 23064, 23067, 23070, 23075, 23087, 23091, 23093, 23094, 23101, 23107, 23108, 23112, 23120, 23125, 23144, 23171, 23193, 23196, 23230, 23231, 23237, 23246, 23254, 23258, 23268, 23276, 23289, 23301, 23302, 23304, 23305, 23315, 23320, 23328, 23332, 23333, 23339, 23380, 23389, 23400, 23411, 23416, 23423, 23426, 23442, 23448, 23450, 23455, 23463, 23469, 23474, 23477, 23479, 23488, 23492, 23536, 23557, 23559, 23563, 23566, 23604, 23609, 23630, 23640, 23641, 23645, 23647, 23654, 23655, 23662, 23663, 23666, 23676, 23685, 23690, 23697, 23698, 23700, 23703, 23720, 23738, 23747, 23753, 23754, 23766, 23767, 23774, 23782, 23784, 23785, 23791, 23793, 23805, 23821, 23846, 23853, 23860, 23869, 23877, 23880, 23892, 23898, 23905, 23906, 23912, 23922, 23927, 23932, 23944, 23945, 23946, 23948, 23963, 23965, 23969, 23972, 23981, 23997, 23998, 24004, 24007, 24009, 24029, 24032, 24036, 24050, 24060, 24065, 24066, 24072, 24076, 24082, 24101, 24105, 24110, 24111, 24121, 24128, 24134, 24142, 24146, 24157, 24164, 24187, 24190, 24192, 24218, 24220, 24223, 24227, 24228, 24239, 24243, 24247, 24249, 24254, 24258, 24259, 24260, 24267, 24274, 24277, 24285, 24306, 24332, 24336, 24340, 24365, 24371, 24372, 24387, 24392, 24399, 24405, 24409, 24412, 24415, 24418, 24421, 24436, 24442, 24443, 24445, 24447, 24448, 24457, 24464, 24479, 24481, 24483, 24485, 24509, 24511, 24512, 24514, 24521, 24528, 24534, 24535, 24536, 24559, 24561, 24574, 24582, 24587, 24599, 24607, 24620, 24628, 24641, 24648, 24652, 24659, 24664, 24674, 24690, 24694, 24696, 24700, 24709, 24710, 24715, 24716, 24720, 24721, 24740, 24742, 24743, 24752, 24789, 24790, 24794, 24796, 24805, 24806, 24824, 24829, 24839, 24869, 24873, 24881, 24899, 24910, 24922, 24931, 24935, 24936, 24937, 24938, 24943, 24951, 24954, 24976, 24987, 24988, 25006, 25031, 25040, 25051, 25056, 25061, 25075, 25079, 25082, 25087, 25088, 25089, 25090, 25094, 25097, 25100, 25101, 25106, 25110, 25117, 25127, 25132, 25133, 25148, 25159, 25162, 25187, 25193, 25203, 25213, 25222, 25224, 25225, 25227, 25231, 25233, 25245, 25248, 25288, 25290, 25291, 25294, 25304, 25305, 25308, 25313, 25326, 25329, 25346, 25361, 25362, 25365, 25368, 25377, 25384, 25386, 25390, 25393, 25394, 25401, 25407, 25410, 25416, 25426, 25428, 25431, 25432, 25434, 25437, 25439, 25444, 25454, 25457, 25458, 25461, 25474, 25486, 25504, 25505, 25512, 25513, 25519, 25542, 25553, 25557, 25559, 25562, 25570, 25576, 25590, 25591, 25596, 25603, 25608, 25611, 25621, 25622, 25626, 25632, 25642, 25650, 25653, 25657, 25663, 25664, 25666, 25669, 25670, 25675, 25681, 25693, 25706, 25707, 25709, 25717, 25722, 25723, 25726, 25730, 25731, 25754, 25758, 25762, 25768, 25782, 25784, 25785, 25787, 25799, 25806, 25807, 25808, 25810, 25811, 25812, 25813, 25815, 25817, 25819, 25820, 25842, 25851, 25855, 25859, 25860, 25883, 25887, 25896, 25914, 25931, 25942, 25950, 25969, 25971, 25990, 25991, 25994, 25998, 26004, 26013, 26017, 26021, 26024, 26035, 26043, 26051, 26055, 26057, 26064, 26067, 26069, 26073, 26089, 26090, 26100, 26107, 26113, 26129, 26135, 26136, 26141, 26143, 26144, 26147, 26151, 26158, 26165, 26168, 26174, 26176, 26177, 26204, 26213, 26217, 26218, 26222, 26227, 26229, 26230, 26231, 26237, 26241, 26243, 26247, 26256, 26266, 26268, 26269, 26274, 26276, 26277, 26286, 26287, 26292, 26298, 26302, 26306, 26314, 26331, 26334, 26336, 26339, 26341, 26343, 26352, 26369, 26379, 26392, 26396, 26399, 26423, 26438, 26446, 26447, 26449, 26468, 26471, 26485, 26489, 26498, 26501, 26508, 26512, 26514, 26518, 26521, 26523, 26524, 26527, 26543, 26549, 26566, 26569, 26571, 26572, 26575, 26612, 26617, 26618, 26630, 26634, 26647, 26650, 26653, 26671, 26679, 26696, 26709, 26732, 26736, 26740, 26741, 26744, 26765, 26767, 26795, 26812, 26813, 26820, 26837, 26842, 26846, 26856, 26864, 26880, 26886, 26891, 26897, 26911, 26916, 26930, 26931, 26935, 26937, 26944, 26959, 26963, 26971, 26973, 26978, 26984, 26989, 27000, 27002, 27003, 27014, 27023, 27024, 27048, 27053, 27066, 27070, 27076, 27080, 27088, 27106, 27110, 27112, 27115, 27128, 27132, 27145, 27153, 27157, 27158, 27168, 27177, 27189, 27190, 27194, 27214, 27237, 27239, 27243, 27244, 27247, 27253, 27262, 27263, 27267, 27270, 27286, 27289, 27313, 27314, 27319, 27357, 27359, 27373, 27380, 27394, 27401, 27417, 27435, 27449, 27454, 27462, 27473, 27476, 27477, 27490, 27503, 27504, 27506, 27514, 27516, 27518, 27524, 27527, 27529, 27538, 27539, 27541, 27564, 27582, 27588, 27590, 27606, 27609, 27615, 27623, 27624, 27631, 27637, 27640, 27653, 27661, 27670, 27678, 27682, 27687, 27693, 27697, 27699, 27721, 27736, 27737, 27744, 27751, 27761, 27767, 27774, 27782, 27784, 27786, 27789, 27801, 27804, 27805, 27809, 27812, 27817, 27839, 27844, 27847, 27849, 27861, 27864, 27866, 27869, 27872, 27874, 27880, 27888, 27897, 27921, 27927, 27929, 27935, 27939, 27954, 27959, 27960, 27963, 27969, 27974, 27982, 27986, 27990, 28009, 28011, 28013, 28024, 28026, 28045, 28060, 28062, 28071, 28075, 28076, 28085, 28087, 28094, 28098, 28100, 28101, 28114, 28118, 28121, 28149, 28171, 28174, 28177, 28179, 28186, 28199, 28205, 28207, 28223, 28228, 28231, 28233, 28234, 28243, 28247, 28250, 28256, 28259, 28264, 28265, 28272, 28286, 28294, 28295, 28298, 28305, 28308, 28310, 28313, 28316, 28320, 28332, 28336, 28340, 28341, 28342, 28344, 28358, 28365, 28371, 28374, 28379, 28380, 28388, 28390, 28391, 28392, 28396, 28399, 28402, 28405, 28411, 28412, 28413, 28417, 28418, 28435, 28438, 28441, 28442, 28444, 28454, 28460, 28461, 28462, 28476, 28487, 28488, 28493, 28497, 28503, 28513, 28530, 28538, 28542, 28564, 28568, 28569, 28582, 28587, 28604, 28608, 28615, 28627, 28634, 28635, 28640, 28653, 28667, 28683, 28684, 28689, 28696, 28697, 28708, 28712, 28725, 28735, 28740, 28747, 28751, 28756, 28757, 28761, 28768, 28772, 28780, 28782, 28788, 28790, 28797, 28806, 28823, 28841, 28862, 28882, 28895, 28899, 28929, 28947, 28952, 28954, 28958, 28967, 28970, 28974, 28977, 28989, 28993, 28996, 29017, 29029, 29035, 29037, 29041, 29042, 29048, 29049, 29056, 29060, 29062, 29087, 29094, 29103, 29129, 29132, 29135, 29142, 29143, 29144, 29159, 29162, 29165, 29178, 29185, 29186, 29191, 29194, 29198, 29206, 29207, 29211, 29213, 29218, 29227, 29234, 29236, 29249, 29252, 29261, 29266, 29268, 29273, 29302, 29311, 29313, 29327, 29342, 29347, 29359, 29361, 29367, 29370, 29375, 29378, 29383, 29384, 29389, 29398, 29399, 29401, 29404, 29407, 29409, 29411, 29417, 29425, 29426, 29430, 29434, 29437, 29442, 29445, 29451, 29453, 29463, 29476, 29481, 29482, 29485, 29492, 29498, 29500, 29519, 29521, 29543, 29548, 29550, 29554, 29564, 29570, 29574, 29575, 29576, 29579, 29582, 29592, 29597, 29607, 29619, 29629, 29631, 29635, 29649, 29651, 29654, 29669, 29684, 29693, 29700, 29702, 29708, 29716, 29721, 29722, 29727, 29730, 29737, 29750, 29751, 29753, 29765, 29782, 29809, 29814, 29816, 29819, 29820, 29822, 29824, 29839, 29851, 29856, 29866, 29879, 29888, 29900, 29905, 29907, 29910, 29925, 29928, 29940, 29970, 29975, 29976, 29981, 29990, 29997, 29999, 30008, 30009, 30012, 30016, 30024, 30026, 30044, 30046, 30048, 30061, 30067, 30070, 30077, 30080, 30086, 30105, 30106, 30114, 30118, 30121, 30123, 30131, 30160, 30162, 30165, 30202, 30205, 30209, 30210, 30227, 30235, 30246, 30253, 30269, 30278, 30279, 30283, 30284, 30287, 30291, 30293, 30301, 30306, 30315, 30319, 30331, 30335, 30338, 30341, 30345, 30354, 30357, 30362, 30366, 30374, 30375, 30377, 30378, 30380, 30383, 30387, 30390, 30404, 30407, 30419, 30445, 30456, 30461, 30475, 30480, 30491, 30500, 30504, 30509, 30512, 30520, 30526, 30537, 30539, 30554, 30560, 30563, 30567, 30582, 30608, 30615, 30617, 30618, 30622, 30623, 30624, 30628, 30640, 30650, 30654, 30696, 30703, 30715, 30716, 30720, 30723, 30731, 30735, 30737, 30738, 30740, 30745, 30748, 30752, 30757, 30764, 30770, 30774, 30778, 30781, 30783, 30788, 30790, 30791, 30796, 30809, 30851, 30852, 30853, 30854, 30855, 30857, 30871, 30875, 30879, 30880, 30884, 30888, 30895, 30899, 30902, 30903, 30905, 30909, 30922, 30923, 30926, 30934, 30937, 30949, 30950, 30951, 30952, 30956, 30973, 30977, 30993, 30996, 30998, 31009, 31015, 31019, 31047, 31050, 31057, 31065, 31071, 31073, 31083, 31091, 31095, 31105, 31111, 31118, 31129, 31138, 31149, 31166, 31183, 31184, 31193, 31202, 31204, 31209, 31214, 31218, 31220, 31224, 31225, 31235, 31267, 31268, 31281, 31282, 31288, 31306, 31309, 31316, 31317, 31325, 31328, 31336, 31352, 31357, 31359, 31364, 31391, 31393, 31407, 31408, 31409, 31416, 31425, 31426, 31444, 31455, 31456, 31474, 31487, 31496, 31517, 31521, 31523, 31527, 31530, 31531, 31532, 31539, 31542, 31546, 31571, 31578, 31582, 31584, 31599, 31601, 31606, 31614, 31616, 31632, 31634, 31643, 31646, 31656, 31665, 31667, 31672, 31675, 31694, 31710, 31727, 31729, 31730, 31733, 31735, 31736, 31742, 31749, 31755, 31770, 31771, 31789, 31811, 31816, 31822, 31844, 31845, 31858, 31872, 31877, 31879, 31883, 31898, 31914, 31915, 31928, 31934, 31955, 31959, 31967, 31981, 31982, 31984, 31986, 31992, 32002, 32007, 32018, 32021, 32025, 32031, 32044, 32046, 32054, 32059, 32061, 32062, 32076, 32080, 32084, 32087, 32090, 32098, 32099, 32101, 32107, 32109, 32150, 32151, 32158, 32162, 32172, 32182, 32183, 32185, 32197, 32207, 32212, 32215, 32228, 32236, 32241, 32242, 32243, 32248, 32250, 32272, 32273, 32276, 32278, 32289, 32291, 32294, 32296, 32300, 32307, 32322, 32324, 32328, 32333, 32337, 32339, 32342, 32348, 32359, 32383, 32390, 32400, 32403, 32412, 32436, 32437, 32440, 32449, 32451, 32457, 32462, 32470, 32482, 32502, 32517, 32519, 32524, 32526, 32533, 32541, 32542, 32550, 32556, 32563, 32568, 32569, 32571, 32586, 32590, 32593, 32606, 32618, 32627, 32633, 32634, 32635, 32655, 32657, 32677, 32678, 32691, 32706, 32712, 32715, 32722, 32749, 32750, 32751, 32780, 32782, 32787, 32790, 32798, 32799, 32801, 32809, 32814, 32824, 32826, 32841, 32844, 32850, 32861, 32865, 32873, 32876, 32880, 32891, 32893, 32910, 32912, 32918, 32922, 32933, 32938, 32960, 32962, 32965, 32984, 32996, 32997, 32998, 33005, 33009, 33014, 33017, 33018, 33024, 33030, 33036, 33046, 33049, 33052, 33058, 33063, 33066, 33067, 33069, 33071, 33077, 33078, 33085, 33089, 33097, 33102, 33104, 33106, 33108, 33118, 33125, 33129, 33132, 33138, 33147, 33158, 33159, 33162, 33163, 33169, 33178, 33186, 33203, 33207, 33214, 33223, 33226, 33238, 33244, 33246, 33266, 33276, 33280, 33283, 33302, 33310, 33312, 33314, 33315, 33317, 33324, 33325, 33328, 33331, 33335, 33336, 33354, 33359, 33364, 33372, 33375, 33378, 33382, 33384, 33392, 33408, 33412, 33418, 33420, 33421, 33435, 33438, 33453, 33470, 33474, 33475, 33482, 33487, 33491, 33495, 33497, 33498, 33499, 33501, 33503, 33506, 33509, 33515, 33522, 33525, 33536, 33540, 33543, 33552, 33553, 33570, 33577, 33580, 33581, 33582, 33584, 33588, 33590, 33600, 33615, 33623, 33626, 33628, 33636, 33637, 33657, 33660, 33667, 33670, 33672, 33675, 33685, 33692, 33703, 33735, 33737, 33755, 33757, 33758, 33767, 33769, 33775, 33777, 33789, 33790, 33794, 33798, 33815, 33826, 33828, 33839, 33845, 33850, 33854, 33863, 33865, 33876, 33887, 33888, 33897, 33899, 33917, 33921, 33930, 33938, 33942, 33945, 33946, 33951, 33962, 33966, 33985, 33988, 34026, 34028, 34038, 34041, 34042, 34053, 34054, 34064, 34069, 34070, 34078, 34082, 34091, 34101, 34106, 34107, 34108, 34111, 34115, 34117, 34123, 34140, 34155, 34163, 34166, 34168, 34184, 34187, 34189, 34190, 34192, 34196, 34202, 34209, 34212, 34214, 34218, 34227, 34236, 34239, 34247, 34266, 34283, 34286, 34292, 34294, 34296, 34297, 34302, 34306, 34314, 34317, 34322, 34331, 34334, 34336, 34343, 34350, 34354, 34355, 34359, 34362, 34367, 34372, 34381, 34387, 34389, 34392, 34403, 34407, 34413, 34415, 34416, 34419, 34420, 34422, 34425, 34436, 34439, 34446, 34456, 34461, 34466, 34468, 34469, 34479, 34489, 34491, 34527, 34541, 34545, 34549, 34552, 34553, 34569, 34574, 34575, 34577, 34581, 34590, 34592, 34595, 34613, 34627, 34629, 34631, 34645, 34648, 34652, 34672, 34685, 34686, 34687, 34692, 34699, 34704, 34721, 34723, 34746, 34753, 34756, 34761, 34763, 34765, 34769, 34772, 34773, 34779, 34795, 34803, 34829, 34852, 34858, 34860, 34877, 34885, 34888, 34895, 34904, 34906, 34911, 34932, 34941, 34945, 34949, 34951, 34955, 34956, 34961, 34964, 34976, 34983, 34988, 34995, 34999, 35003, 35005, 35007, 35016, 35018, 35023, 35025, 35027, 35028, 35033, 35035, 35036, 35037, 35041, 35055, 35066, 35068, 35071, 35086, 35090, 35091, 35092, 35101, 35102, 35103, 35110, 35114, 35118, 35126, 35141, 35143, 35148, 35155, 35161, 35167, 35172, 35181, 35187, 35189, 35192, 35195, 35197, 35199, 35200, 35201, 35202, 35204, 35208, 35212, 35230, 35231, 35234, 35240, 35243, 35245, 35247, 35253, 35265, 35269, 35270, 35280, 35281, 35290, 35298, 35299, 35306, 35310, 35318, 35322, 35324, 35326, 35332, 35353, 35364, 35366, 35377, 35393, 35400, 35407, 35408, 35412, 35417, 35418, 35421, 35431, 35433, 35436, 35439, 35444, 35454, 35460, 35466, 35479, 35485, 35487, 35490, 35493, 35501, 35504, 35519, 35528, 35530, 35540, 35544, 35550, 35552, 35554, 35559, 35579, 35581, 35588, 35596, 35600, 35603, 35604, 35606, 35616, 35620, 35633, 35637, 35639, 35640, 35641, 35660, 35683, 35693, 35713, 35716, 35723, 35726, 35738, 35751, 35752, 35755, 35760, 35765, 35767, 35771, 35772, 35774, 35777, 35780, 35782, 35787, 35793, 35803, 35809, 35828, 35838, 35839, 35846, 35859, 35870, 35882, 35885, 35889, 35891, 35906, 35933, 35938, 35939, 35948, 35949, 35956, 35957, 35961, 35963, 35966, 35968, 35974, 35977, 35979, 35981, 35988, 35995, 36005, 36014, 36017, 36028, 36030, 36035, 36048, 36050, 36061, 36073, 36080, 36093, 36100, 36102, 36104, 36110, 36120, 36123, 36124, 36128, 36129, 36151, 36162, 36163, 36176, 36182, 36186, 36191, 36198, 36203, 36207, 36216, 36229, 36231, 36234, 36247, 36251, 36256, 36258, 36266, 36272, 36275, 36278, 36285, 36298, 36302, 36304, 36305, 36307, 36309, 36310, 36313, 36316, 36320, 36321, 36332, 36338, 36340, 36345, 36350, 36351, 36352, 36354, 36364, 36366, 36381, 36382, 36399, 36404, 36411, 36431, 36436, 36448, 36451, 36453, 36460, 36461, 36476, 36477, 36486, 36498, 36500, 36506, 36508, 36510, 36513, 36514, 36521, 36530, 36537, 36541, 36549, 36550, 36551, 36553, 36558, 36564, 36574, 36584, 36592, 36603, 36604, 36611, 36616, 36618, 36629, 36638, 36643, 36655, 36656, 36662, 36686, 36688, 36691, 36698, 36700, 36703, 36706, 36710, 36712, 36713, 36717, 36720, 36723, 36727, 36737, 36743, 36751, 36759, 36774, 36775, 36787, 36789, 36807, 36812, 36837, 36842, 36846, 36848, 36849, 36852, 36857, 36862, 36863, 36868, 36887, 36888, 36899, 36923, 36929, 36934, 36935, 36937, 36939, 36951, 36956, 36959, 36972, 36986, 37006, 37007, 37009, 37011, 37013, 37017, 37019, 37023, 37032, 37036, 37048, 37051, 37054, 37055, 37056, 37090, 37097, 37099, 37106, 37109, 37116, 37125, 37135, 37141, 37147, 37148, 37158, 37160, 37178, 37192, 37199, 37215, 37217, 37232, 37233, 37239, 37241, 37244, 37245, 37247, 37253, 37256, 37261, 37265, 37273, 37274, 37290, 37298, 37307, 37315, 37327, 37328, 37332, 37334, 37348, 37355, 37356, 37358, 37360, 37361, 37365, 37373, 37377, 37395, 37402, 37403, 37413, 37415, 37418, 37422, 37427, 37432, 37433, 37449, 37460, 37466, 37468, 37471, 37475, 37482, 37484, 37486, 37489, 37495, 37504, 37508, 37524, 37531, 37532, 37541, 37549, 37551, 37558, 37559, 37569, 37579, 37596, 37599, 37609, 37612, 37617, 37622, 37629, 37636, 37641, 37662, 37667, 37675, 37678, 37700, 37734, 37743, 37759, 37775, 37777, 37779, 37784, 37793, 37803, 37820, 37826, 37835, 37836, 37840, 37846, 37857, 37862, 37865, 37867, 37869, 37879, 37889, 37890, 37893, 37896, 37905, 37911, 37921, 37923, 37925, 37927, 37945, 37950, 37951, 37952, 37953, 37955, 37956, 37968, 37974, 37976, 37978, 37980, 37985, 37986, 38014, 38017, 38020, 38023, 38025, 38030, 38038, 38049, 38051, 38054, 38056, 38080, 38081, 38119, 38126, 38127, 38145, 38147, 38156, 38161, 38168, 38175, 38176, 38177, 38189, 38195, 38197, 38198, 38199, 38203, 38204, 38206, 38212, 38213, 38215, 38217, 38219, 38221, 38222, 38231, 38235, 38238, 38242, 38250, 38255, 38257, 38258, 38263, 38271, 38285, 38289, 38290, 38299, 38300, 38305, 38308, 38310, 38317, 38330, 38331, 38333, 38352, 38369, 38391, 38399, 38405, 38416, 38423, 38431, 38437, 38441, 38451, 38457, 38465, 38480, 38485, 38487, 38491, 38492, 38496, 38506, 38509, 38515, 38517, 38521, 38536, 38537, 38544, 38545, 38547, 38562, 38563, 38567, 38570, 38572, 38574, 38582, 38590, 38593, 38602, 38603, 38604, 38608, 38609, 38611, 38617, 38629, 38631, 38646, 38661, 38671, 38678, 38679, 38681, 38701, 38703, 38709, 38716, 38717, 38720, 38730, 38731, 38737, 38739, 38763, 38768, 38773, 38776, 38785, 38786, 38790, 38816, 38819, 38821, 38829, 38830, 38831, 38838, 38844, 38847, 38850, 38868, 38886, 38892, 38908, 38910, 38912, 38913, 38920, 38922, 38924, 38930, 38931, 38944, 38958, 38962, 38970, 38974, 38989, 38991, 38999, 39008, 39028, 39041, 39057, 39059, 39063, 39065, 39079, 39080, 39081, 39083, 39085, 39089, 39091, 39092, 39097, 39103, 39120, 39129, 39138, 39143, 39149, 39154, 39158, 39162, 39164, 39185, 39193, 39198, 39199, 39210, 39217, 39222, 39224, 39235, 39238, 39241, 39242, 39249, 39256, 39261, 39273, 39286, 39290, 39294, 39300, 39316, 39317, 39319, 39320, 39325, 39351, 39359, 39364, 39376, 39379, 39385, 39405, 39419, 39421, 39426, 39429, 39430, 39438, 39447, 39451, 39455, 39463, 39470, 39482, 39499, 39500, 39505, 39509, 39513, 39525, 39535, 39542, 39546, 39550, 39552, 39554, 39570, 39576, 39577, 39579, 39584, 39586, 39592, 39593, 39596, 39600, 39603, 39605, 39611, 39617, 39630, 39643, 39650, 39654, 39671, 39675, 39676, 39678, 39685, 39694, 39696, 39697, 39715, 39732, 39738, 39740, 39748, 39749, 39751, 39755, 39759, 39763, 39776, 39796, 39800, 39812, 39816, 39822, 39837, 39838, 39839, 39850, 39853, 39857, 39873, 39878, 39885, 39888, 39892, 39905, 39915, 39926, 39940, 39966, 39973, 39975, 39986, 40024, 40026, 40033, 40034, 40039, 40041, 40042, 40050, 40054, 40066, 40082, 40083, 40090, 40093, 40095, 40101, 40110, 40116, 40125, 40134, 40136, 40137, 40144, 40145, 40151, 40161, 40162, 40169, 40170, 40178, 40180, 40186, 40189, 40197, 40202, 40212, 40215, 40218, 40222, 40224, 40226, 40245, 40246, 40253, 40259, 40275, 40276, 40280, 40285, 40291, 40292, 40297, 40300, 40304, 40305, 40328, 40332, 40337, 40345, 40354, 40381, 40401, 40413, 40414, 40421, 40422, 40430, 40436, 40443, 40444, 40448, 40453, 40457, 40474, 40481, 40482, 40493, 40506, 40512, 40532, 40535, 40540, 40543, 40547, 40553, 40555, 40562, 40578, 40580, 40588, 40590, 40595, 40597, 40600, 40601, 40605, 40606, 40608, 40613, 40621, 40632, 40635, 40638, 40641, 40653, 40663, 40668, 40674, 40676, 40677, 40681, 40685, 40697, 40698, 40699, 40717, 40719, 40723, 40735, 40749, 40759, 40776, 40778, 40780, 40787, 40792, 40793, 40806, 40810, 40811, 40824, 40828, 40835, 40844, 40846, 40851, 40855, 40859, 40868, 40872, 40886, 40890, 40900, 40910, 40912, 40922, 40925, 40934, 40940, 40948, 40950, 40955, 40977, 40988, 40992, 41022, 41025, 41050, 41051, 41066, 41068, 41072, 41073, 41074, 41076, 41079, 41083, 41093, 41105, 41106, 41108, 41111, 41114, 41119, 41130, 41134, 41141, 41152, 41157, 41162, 41165, 41179, 41182, 41187, 41188, 41225, 41228, 41243, 41247, 41248, 41269, 41270, 41273, 41279, 41290, 41291, 41312, 41316, 41324, 41326, 41340, 41344, 41349, 41358, 41389, 41390, 41399, 41412, 41435, 41439, 41447, 41456, 41461, 41465, 41481, 41496, 41498, 41516, 41518, 41537, 41538, 41543, 41551, 41554, 41559, 41563, 41565, 41586, 41598, 41599, 41607, 41630, 41641, 41652, 41656, 41664, 41671, 41674, 41685, 41707, 41709, 41718, 41725, 41728, 41735, 41738, 41739, 41743, 41748, 41751, 41757, 41761, 41763, 41767, 41768, 41772, 41776, 41777, 41790, 41805, 41811, 41814, 41816, 41826, 41832, 41839, 41841, 41844, 41847, 41848, 41852, 41873, 41902, 41908, 41909, 41939, 41948, 41950, 41956, 41959, 41960, 41981, 41984, 41992, 41993, 42003, 42010, 42024, 42030, 42048, 42057, 42061, 42065, 42066, 42077, 42079, 42089, 42096, 42099, 42103, 42107, 42126, 42133, 42137, 42140, 42142, 42152, 42159, 42173, 42174, 42189, 42200, 42202, 42204, 42223, 42235, 42239, 42255, 42256, 42276, 42290, 42297, 42307, 42314, 42315, 42331, 42332, 42343, 42352, 42356, 42358, 42373, 42378, 42381, 42387, 42399, 42405, 42407, 42417, 42418, 42424, 42432, 42438, 42447, 42455, 42462, 42474, 42508, 42513, 42517, 42528, 42529, 42536, 42537, 42550, 42552, 42558, 42561, 42567, 42574, 42575, 42576, 42581, 42584, 42591, 42609, 42613, 42620, 42635, 42636, 42648, 42653, 42660, 42668, 42670, 42671, 42672, 42677, 42678, 42682, 42683, 42690, 42694, 42707, 42710, 42715, 42730, 42739, 42740, 42741, 42768, 42771, 42779, 42783, 42810, 42814, 42817, 42819, 42820, 42823, 42824, 42825, 42831, 42838, 42842, 42851, 42860, 42864, 42866, 42874, 42884, 42886, 42887, 42889, 42895, 42916, 42917, 42920, 42922, 42937, 42941, 42944, 42946, 42947, 42954, 42973, 42974, 42994, 43002, 43009, 43030, 43035, 43037, 43047, 43082, 43086, 43088, 43092, 43100, 43101, 43103, 43111, 43116, 43129, 43137, 43142, 43146, 43152, 43156, 43162, 43188, 43196, 43203, 43205, 43206, 43215, 43218, 43220, 43222, 43223, 43224, 43228, 43242, 43245, 43268, 43276, 43281, 43283, 43293, 43294, 43296, 43312, 43334, 43338, 43346, 43352, 43381, 43384, 43386, 43390, 43396, 43400, 43401, 43413, 43414, 43419, 43427, 43441, 43446, 43451, 43459, 43466, 43467, 43472, 43473, 43505, 43512, 43531, 43535, 43541, 43544, 43557, 43568, 43576, 43587, 43591, 43596, 43598, 43603, 43607, 43625, 43626, 43627, 43632, 43633, 43638, 43642, 43648, 43663, 43670, 43683, 43712, 43725, 43735, 43742, 43744, 43749, 43750, 43769, 43772, 43781, 43783, 43793, 43812, 43815, 43822, 43823, 43826, 43830, 43831, 43833, 43838, 43841, 43842, 43848, 43850, 43865, 43869, 43873, 43875, 43890, 43892, 43896, 43898, 43899, 43903, 43906, 43908, 43915, 43921, 43922, 43927, 43930, 43939, 43942, 43956, 43957, 43958, 43964, 43969, 43973, 43978, 43991, 43998, 44001, 44004, 44011, 44015, 44029, 44041, 44047, 44054, 44057, 44068, 44072, 44075, 44083, 44099, 44105, 44119, 44129, 44132, 44139, 44141, 44146, 44149, 44151, 44152, 44155, 44175, 44178, 44187, 44191, 44197, 44198, 44207, 44208, 44212, 44213, 44230, 44254, 44259, 44270, 44273, 44278, 44280, 44281, 44310, 44317, 44321, 44340, 44356, 44367, 44382, 44391, 44401, 44409, 44411, 44414, 44422, 44430, 44433, 44437, 44442, 44445, 44449, 44450, 44468, 44494, 44496, 44502, 44513, 44517, 44530, 44547, 44549, 44553, 44566, 44573, 44586, 44594, 44600, 44610, 44612, 44615, 44620, 44621, 44624, 44625, 44626, 44632, 44636, 44640, 44642, 44647, 44658, 44661, 44688, 44695, 44696, 44705, 44712, 44725, 44727, 44730, 44734, 44736, 44763, 44768, 44784, 44803, 44812, 44813, 44814, 44825, 44832, 44846, 44848, 44854, 44858, 44869, 44871, 44874, 44884, 44890, 44892, 44919, 44922, 44924, 44931, 44932, 44933, 44938, 44942, 44953, 44965, 44970, 44971, 44976, 45001, 45010, 45022, 45027, 45029, 45034, 45035, 45045, 45072, 45092, 45096, 45099, 45105, 45108, 45110, 45111, 45112, 45126, 45132, 45133, 45147, 45149, 45157, 45161, 45164, 45168, 45173, 45176, 45184, 45188, 45190, 45191, 45194, 45220, 45226, 45235, 45242, 45245, 45255, 45269, 45281, 45291, 45292, 45298, 45300, 45303, 45305, 45309, 45310, 45316, 45322, 45332, 45339, 45340, 45345, 45346, 45351, 45352, 45369, 45375, 45382, 45390, 45396, 45411, 45413, 45414, 45431, 45444, 45472, 45475, 45476, 45482, 45499, 45503, 45505, 45516, 45527, 45528, 45534, 45539, 45547, 45553, 45563, 45570, 45574, 45577, 45578, 45587, 45599, 45600, 45603, 45606, 45623, 45628, 45638, 45655, 45665, 45677, 45678, 45689, 45695, 45701, 45714, 45715, 45723, 45725, 45728, 45730, 45731, 45734, 45740, 45747, 45753, 45760, 45768, 45783, 45788, 45794, 45798, 45803, 45809, 45814, 45815, 45818, 45820, 45832, 45834, 45843, 45844, 45845, 45851, 45852, 45856, 45874, 45875, 45884, 45885, 45887, 45896, 45899, 45902, 45912, 45914, 45921, 45924, 45925, 45928, 45929, 45934, 45935, 45936, 45938, 45944, 45945, 45955, 45962, 45978, 45993, 45996, 46008, 46012, 46014, 46028, 46030, 46035, 46042, 46051, 46057, 46062, 46063, 46074, 46078, 46084, 46094, 46104, 46109, 46124, 46126, 46145, 46147, 46154, 46155, 46160, 46162, 46169, 46181, 46191, 46193, 46201, 46204, 46206, 46225, 46227, 46233, 46234, 46235, 46237, 46270, 46281, 46282, 46296, 46301, 46307, 46335, 46339, 46341, 46354, 46373, 46382, 46393, 46395, 46397, 46399, 46408, 46422, 46423, 46453, 46458, 46464, 46471, 46479, 46486, 46487, 46505, 46516, 46525, 46526, 46529, 46530, 46533, 46562, 46585, 46589, 46590, 46595, 46621, 46622, 46624, 46625, 46627, 46629, 46630, 46637, 46641, 46642, 46646, 46647, 46652, 46667, 46693, 46696, 46698, 46714, 46723, 46730, 46746, 46760, 46761, 46765, 46778, 46783, 46793, 46804, 46808, 46812, 46819, 46821, 46830, 46865, 46867, 46895, 46899, 46900, 46906, 46914, 46923, 46928, 46931, 46947, 46954, 46956, 46959, 46964, 46967, 46971, 46974, 46987, 46988, 46991, 46993, 47000, 47002, 47023, 47024, 47029, 47045, 47046, 47053, 47057, 47060, 47073, 47077, 47087, 47091, 47108, 47109, 47112, 47136, 47137, 47139, 47151, 47152, 47168, 47169, 47172, 47177, 47192, 47200, 47205, 47215, 47232, 47233, 47237, 47238, 47241, 47256, 47259, 47263, 47281, 47282, 47293, 47297, 47304, 47307, 47311, 47316, 47317, 47329, 47330, 47333, 47342, 47346, 47351, 47352, 47353, 47363, 47366, 47372, 47387, 47392, 47398, 47407, 47417, 47418, 47442, 47456, 47472, 47487, 47488, 47497, 47499, 47506, 47511, 47527, 47547, 47561, 47563, 47574, 47582, 47595, 47596, 47602, 47614, 47633, 47644, 47646, 47651, 47652, 47673, 47680, 47683, 47706, 47707, 47717, 47725, 47749, 47751, 47752, 47760, 47763, 47765, 47785, 47793, 47804, 47813, 47815, 47817, 47819, 47820, 47831, 47832, 47838, 47847, 47848, 47853, 47857, 47865, 47867, 47868, 47884, 47887, 47890, 47899, 47901, 47920, 47922, 47925, 47929, 47933, 47935, 47941, 47950, 47962, 47964, 47974, 47975, 47977, 47980, 47991, 47998, 48000, 48006, 48010, 48013, 48019, 48025, 48034, 48035, 48040, 48050, 48051, 48055, 48070, 48090, 48095, 48104, 48107, 48114, 48116, 48133, 48134, 48135, 48138, 48139, 48141, 48144, 48145, 48146, 48148, 48150, 48153, 48154, 48155, 48165, 48167, 48171, 48172, 48175, 48176, 48195, 48222, 48227, 48237, 48238, 48241, 48261, 48264, 48265, 48271, 48276, 48277, 48281, 48283, 48284, 48287, 48292, 48304, 48305, 48307, 48308, 48311, 48320, 48322, 48326, 48327, 48328, 48336, 48342, 48360, 48366, 48371, 48377, 48399, 48403, 48413, 48414, 48415, 48417, 48419, 48424, 48431, 48444, 48452, 48466, 48474, 48475, 48479, 48484, 48492, 48498, 48499, 48503, 48521, 48525, 48529, 48531, 48535, 48550, 48551, 48576, 48582, 48592, 48606, 48608, 48615, 48619, 48635, 48643, 48648, 48652, 48658, 48669, 48674, 48690, 48720, 48721, 48722, 48734, 48735, 48743, 48744, 48748, 48754, 48756, 48757, 48764, 48771, 48781, 48782, 48786, 48795, 48797, 48807, 48808, 48810, 48821, 48824, 48825, 48833, 48834, 48849, 48877, 48886, 48891, 48894, 48912, 48921, 48949, 48950, 48951, 48957, 48965, 48972, 48979, 48989, 48990, 49008, 49011, 49017, 49032, 49033, 49041, 49043, 49045, 49047, 49057, 49060, 49068, 49071, 49073, 49075, 49088, 49090, 49094, 49102, 49119, 49123, 49124, 49132, 49138, 49144, 49170, 49172, 49178, 49184, 49193, 49202, 49224, 49231, 49232, 49238, 49239, 49246, 49247, 49276, 49280, 49307, 49310, 49314, 49326, 49337, 49350, 49353, 49356, 49367, 49369, 49370, 49371, 49382, 49389, 49392, 49398, 49406, 49409, 49413, 49419, 49421, 49429, 49435, 49437, 49438, 49444, 49447, 49466, 49474, 49477, 49479, 49483, 49489, 49494, 49500, 49502, 49503, 49504, 49506, 49510, 49512, 49516, 49517, 49524, 49526, 49529, 49536, 49540, 49545, 49562, 49563, 49569, 49579, 49583, 49585, 49591, 49597, 49600, 49601, 49602, 49645, 49646, 49650, 49653, 49661, 49663, 49664, 49676, 49677, 49679, 49683, 49688, 49708, 49717, 49731, 49747, 49752, 49758, 49759, 49776, 49783, 49787, 49790, 49802, 49812, 49813, 49825, 49830, 49833, 49836, 49842, 49844, 49847, 49852, 49853, 49859, 49884, 49886, 49894, 49910, 49933, 49938, 49940, 49946, 49951, 49963, 49978, 49983, 49988, 49997, 50003, 50014, 50022, 50024, 50044, 50053, 50054, 50058, 50062, 50069, 50088, 50104, 50105, 50111, 50115, 50116, 50120, 50125, 50131, 50132, 50134, 50142, 50144, 50145, 50164, 50166, 50169, 50191, 50194, 50196, 50221, 50227, 50229, 50242, 50243, 50246, 50259, 50272, 50274, 50284, 50288, 50291, 50302, 50313, 50314, 50318, 50325, 50327, 50341, 50343, 50349, 50353, 50356, 50358, 50368, 50369, 50370, 50387, 50391, 50393, 50401, 50404, 50407, 50413, 50415, 50419, 50420, 50428, 50430, 50432, 50437, 50443, 50458, 50465, 50470, 50481, 50483, 50484, 50487, 50490, 50495, 50497, 50500, 50505, 50511, 50513, 50520, 50529, 50547, 50548, 50549, 50562, 50563, 50564, 50565, 50570, 50590, 50593, 50595, 50599, 50607, 50613, 50617, 50619, 50634, 50662, 50676, 50677, 50688, 50697, 50702, 50704, 50707, 50710, 50711, 50746, 50755, 50756, 50757, 50760, 50762, 50768, 50769, 50771, 50774, 50784, 50805, 50807, 50815, 50821, 50830, 50834, 50835, 50848, 50850, 50857, 50884, 50890, 50901, 50903, 50936, 50937, 50947, 50971, 50972, 50982, 50996, 50997, 51001, 51009, 51022, 51033, 51037, 51041, 51043, 51045, 51050, 51059, 51063, 51066, 51077, 51081, 51110, 51112, 51116, 51117, 51118, 51122, 51124, 51125, 51126, 51148, 51158, 51161, 51173, 51180, 51192, 51197, 51201, 51204, 51205, 51235, 51256, 51260, 51265, 51278, 51282, 51284, 51288, 51305, 51306, 51314, 51324, 51335, 51344, 51351, 51365, 51374, 51375, 51380, 51381, 51382, 51384, 51388, 51393, 51398, 51413, 51426, 51427, 51431, 51436, 51438, 51448, 51452, 51462, 51465, 51481, 51482, 51486, 51512, 51520, 51530, 51535, 51536, 51547, 51548, 51551, 51556, 51571, 51573, 51576, 51582, 51583, 51600, 51614, 51627, 51631, 51632, 51636, 51639, 51640, 51644, 51656, 51660, 51664, 51668, 51669, 51672, 51684, 51688, 51692, 51706, 51711, 51719, 51723, 51730, 51736, 51748, 51750, 51765, 51769, 51777, 51780, 51782, 51788, 51795, 51806, 51816, 51820, 51824, 51838, 51844, 51847, 51856, 51858, 51859, 51873, 51880, 51882, 51886, 51887, 51896, 51905, 51917, 51919, 51935, 51939, 51949, 51952, 51968, 51980, 51988, 51991, 51992, 51994, 51997, 52012, 52026, 52033, 52037, 52039, 52041, 52042, 52043, 52068, 52072, 52082, 52086, 52087, 52090, 52097, 52105, 52106, 52125, 52127, 52133, 52137, 52146, 52150, 52165, 52170, 52171, 52179, 52181, 52187, 52189, 52199, 52208, 52210, 52216, 52219, 52224, 52230, 52232, 52233, 52252, 52255, 52265, 52270, 52273, 52281, 52287, 52289, 52293, 52304, 52309, 52313, 52317, 52324, 52342, 52344, 52346, 52347, 52363, 52366, 52367, 52370, 52381, 52388, 52398, 52400, 52403, 52407, 52410, 52411, 52416, 52420, 52438, 52439, 52440, 52467, 52478, 52480, 52515, 52535, 52558, 52575, 52576, 52580, 52586, 52592, 52605, 52609, 52615, 52629, 52630, 52634, 52644, 52651, 52653, 52656, 52659, 52660, 52663, 52677, 52686, 52689, 52690, 52692, 52693, 52694, 52704, 52706, 52712, 52715, 52728, 52729, 52737, 52740, 52748, 52751, 52759, 52765, 52767, 52770, 52779, 52787, 52795, 52807, 52813, 52816, 52818, 52841, 52842, 52848, 52851, 52854, 52855, 52860, 52862, 52867, 52872, 52881, 52883, 52887, 52895, 52897, 52915, 52920, 52927, 52929, 52935, 52942, 52964, 52975, 52979, 52985, 52987, 52988, 52992, 52995, 53003, 53018, 53032, 53037, 53038, 53040, 53048, 53051, 53056, 53059, 53085, 53090, 53091, 53104, 53107, 53109, 53110, 53119, 53137, 53141, 53142, 53147, 53149, 53153, 53156, 53157, 53158, 53163, 53164, 53192, 53193, 53202, 53207, 53209, 53220, 53222, 53224, 53231, 53243, 53250, 53254, 53255, 53275, 53277, 53287, 53292, 53300, 53302, 53314, 53322, 53331, 53332, 53335, 53345, 53350, 53360, 53369, 53380, 53388, 53389, 53394, 53402, 53406, 53412, 53424, 53441, 53449, 53450, 53457, 53476, 53482, 53490, 53491, 53498, 53501, 53513, 53523, 53526, 53538, 53541, 53544, 53547, 53550, 53558, 53564, 53565, 53572, 53582, 53583, 53593, 53605, 53609, 53613, 53619, 53621, 53623, 53624, 53636, 53640, 53650, 53652, 53653, 53657, 53661, 53662, 53671, 53674, 53683, 53691, 53693, 53696, 53703, 53705, 53707, 53710, 53714, 53716, 53726, 53731, 53736, 53737, 53742, 53750, 53754, 53755, 53766, 53772, 53777, 53801, 53814, 53820, 53841, 53843, 53856, 53863, 53867, 53870, 53874, 53878, 53880, 53892, 53901, 53903, 53908, 53913, 53924, 53931, 53942, 53943, 53947, 53952, 53975, 53993, 54016, 54028, 54030, 54057, 54066, 54070, 54073, 54074, 54080, 54089, 54090, 54101, 54103, 54104, 54111, 54121, 54127, 54140, 54144, 54150, 54164, 54168, 54169, 54216, 54224, 54232, 54242, 54249, 54251, 54257, 54262, 54263, 54268, 54291, 54322, 54335, 54342, 54354, 54363, 54364, 54366, 54373, 54376, 54379, 54385, 54388, 54396, 54398, 54408, 54410, 54415, 54429, 54431, 54434, 54448, 54455, 54458, 54464, 54469, 54476, 54478, 54486, 54489, 54491, 54492, 54494, 54497, 54499, 54500, 54529, 54540, 54545, 54558, 54563, 54566, 54568, 54585, 54611, 54613, 54614, 54634, 54637, 54639, 54641, 54649, 54652, 54659, 54665, 54666, 54672, 54677, 54695, 54701, 54711, 54714, 54716, 54718, 54721, 54724, 54740, 54748, 54763, 54765, 54766, 54776, 54780, 54784, 54787, 54791, 54792, 54804, 54805, 54822, 54823, 54826, 54827, 54849, 54866, 54882, 54883, 54889, 54891, 54894, 54902, 54921, 54939, 54949, 54950, 54965, 54970, 54977, 54997, 55007, 55017, 55030, 55035, 55052, 55057, 55065, 55083, 55084, 55090, 55094, 55097, 55104, 55108, 55115, 55118, 55119, 55124, 55126, 55127, 55128, 55134, 55136, 55150, 55156, 55160, 55161, 55169, 55171, 55177, 55201, 55205, 55218, 55225, 55249, 55255, 55260, 55287, 55298, 55310, 55312, 55313, 55316, 55318, 55324, 55328, 55331, 55337, 55340, 55342, 55352, 55357, 55363, 55368, 55369, 55375, 55394, 55402, 55404, 55412, 55422, 55426, 55432, 55437, 55439, 55440, 55442, 55448, 55452, 55460, 55462, 55466, 55469, 55476, 55490, 55500, 55543, 55548, 55551, 55552, 55566, 55570, 55582, 55587, 55596, 55597, 55604, 55612, 55616, 55618, 55624, 55637, 55642, 55644, 55650, 55656, 55661, 55664, 55668, 55682, 55685, 55694, 55698, 55700, 55706, 55711, 55721, 55745, 55749, 55751, 55758, 55765, 55777, 55778, 55781, 55786, 55787, 55796, 55802, 55803, 55804, 55807, 55812, 55836, 55838, 55842, 55846, 55860, 55861, 55865, 55870, 55882, 55900, 55902, 55909, 55916, 55921, 55939, 55948, 55949, 55955, 55956, 55968, 55976, 55986, 55993, 55996, 55997, 56020, 56025, 56062, 56069, 56070, 56073, 56074, 56086, 56089, 56093, 56095, 56107, 56112, 56114, 56122, 56125, 56128, 56133, 56136, 56144, 56162, 56191, 56223, 56225, 56228, 56229, 56230, 56234, 56239, 56241, 56263, 56284, 56287, 56289, 56300, 56302, 56303, 56306, 56307, 56309, 56312, 56327, 56328, 56344, 56352, 56358, 56361, 56364, 56372, 56375, 56384, 56396, 56397, 56399, 56401, 56405, 56406, 56407, 56422, 56424, 56426, 56428, 56429, 56432, 56447, 56448, 56450, 56458, 56460, 56466, 56467, 56469, 56483, 56488, 56494, 56507, 56512, 56527, 56531, 56539, 56545, 56558, 56568, 56573, 56575, 56589, 56592, 56597, 56600, 56606, 56610, 56614, 56616, 56619, 56621, 56646, 56651, 56652, 56676, 56702, 56703, 56704, 56718, 56722, 56723, 56727, 56729, 56730, 56743, 56757, 56758, 56765, 56770, 56773, 56783, 56790, 56791, 56794, 56817, 56828, 56829, 56865, 56870, 56883, 56888, 56892, 56898, 56901, 56906, 56908, 56909, 56910, 56911, 56915, 56916, 56927, 56929, 56933, 56943, 56951, 56958, 56961, 56964, 56965, 56978, 56982, 56986, 56988, 56995, 57015, 57028, 57034, 57037, 57053, 57061, 57072, 57077, 57082, 57084, 57088, 57093, 57111, 57113, 57117, 57126, 57128, 57144, 57159, 57172, 57173, 57180, 57184, 57193, 57201, 57208, 57209, 57216, 57217, 57227, 57228, 57232, 57234, 57248, 57257, 57260, 57261, 57271, 57272, 57282, 57285, 57306, 57326, 57344, 57351, 57355, 57357, 57365, 57372, 57384, 57396, 57403, 57410, 57412, 57416, 57432, 57435, 57438, 57443, 57450, 57485, 57513, 57516, 57531, 57543, 57548, 57552, 57555, 57565, 57573, 57580, 57582, 57584, 57590, 57612, 57614, 57621, 57625, 57636, 57643, 57645, 57649, 57660, 57661, 57664, 57667, 57670, 57671, 57680, 57681, 57685, 57686, 57694, 57696, 57698, 57705, 57711, 57712, 57721, 57732, 57737, 57746, 57750, 57761, 57762, 57764, 57773, 57790, 57803, 57815, 57816, 57830, 57833, 57836, 57837, 57838, 57844, 57846, 57849, 57852, 57872, 57883, 57893, 57898, 57901, 57908, 57909, 57928, 57931, 57939, 57945, 57947, 57965, 57985, 57992]\n",
      "INPUT:\n"
     ]
    },
    {
     "data": {
      "image/png": "[encoded data removed]",
      "text/plain": [
       "<Figure size 432x288 with 1 Axes>"
      ]
     },
     "metadata": {
      "needs_background": "light"
     },
     "output_type": "display_data"
    },
    {
     "name": "stdout",
     "output_type": "stream",
     "text": [
      "LABEL: 3\n"
     ]
    }
   ],
   "source": [
    "LR_prediction = logreg.predict(X_test)\n",
    "SVM_prediction = b_SVM_2000.predict(X_test)\n",
    "\n",
    "selection= []\n",
    " \n",
    "for a in range(0, len(LR_prediction)):\n",
    "    if SVM_prediction[a] == y_test[a]:\n",
    "        if LR_prediction[a] != y_test[a]:\n",
    "            selection.append(a)\n",
    "#print(selection)\n",
    "\n",
    "plot_input(X_test,y_test,6)"
   ]
  },
  {
   "cell_type": "markdown",
   "metadata": {},
   "source": [
    "## TO DO 11\n",
    "Plot the confusion matrix for the SVM classifier and for logistic regression.\n",
    "The confusion matrix has one column for each predicted label and one row for each true label. \n",
    "It shows for each class in the corresponding row how many samples belonging to that class gets each possible output label.\n",
    "Notice that the diagonal contains the correctly classified samples, while the other cells correspond to errors.\n",
    "You can obtain it with the sklearn.metrics.confusion_matrix function (see the documentation).\n",
    "Try also to normalize the confusion matrix by the number of samples in each class in order to measure the accuracy on each single class.\n"
   ]
  },
  {
   "cell_type": "code",
   "execution_count": 20,
   "metadata": {},
   "outputs": [
    {
     "name": "stdout",
     "output_type": "stream",
     "text": [
      "Labels and frequencies in test set:  [5813 5792 5792 5795 5825 5811 5796 5777 5791 5808]\n",
      "\n",
      " Confusion matrix SVM  \n",
      " \n",
      " [[5337    6   10   38  113   70   10   91   91   47]\n",
      " [  16 5021  158   54   90    8  211    1  140   93]\n",
      " [   0  138 4666  178   54   17  419    9  236   75]\n",
      " [  13   80  114 5258   40  102   13   33  120   22]\n",
      " [ 145  126  265   79 4834   15  127   25   86  123]\n",
      " [  39   62  164  189   61 5130   43   17   86   20]\n",
      " [   7  110  428   46  184    8 4898   57   33   25]\n",
      " [  41   43  109   42  201   28   64 5153   52   44]\n",
      " [  28  129   87   71   10   52  272    5 5125   12]\n",
      " [  25  142  240   13  103   15   18   17  107 5128]]\n",
      "\n",
      " Confusion matrix SVM (normalized)   \n",
      " \n",
      " [[0.92 0.   0.   0.01 0.02 0.01 0.   0.02 0.02 0.01]\n",
      " [0.   0.87 0.03 0.01 0.02 0.   0.04 0.   0.02 0.02]\n",
      " [0.   0.02 0.81 0.03 0.01 0.   0.07 0.   0.04 0.01]\n",
      " [0.   0.01 0.02 0.91 0.01 0.02 0.   0.01 0.02 0.  ]\n",
      " [0.02 0.02 0.05 0.01 0.83 0.   0.02 0.   0.01 0.02]\n",
      " [0.01 0.01 0.03 0.03 0.01 0.88 0.01 0.   0.01 0.  ]\n",
      " [0.   0.02 0.07 0.01 0.03 0.   0.85 0.01 0.01 0.  ]\n",
      " [0.01 0.01 0.02 0.01 0.03 0.   0.01 0.89 0.01 0.01]\n",
      " [0.   0.02 0.02 0.01 0.   0.01 0.05 0.   0.88 0.  ]\n",
      " [0.   0.02 0.04 0.   0.02 0.   0.   0.   0.02 0.88]]\n",
      "\n",
      " Confusion matrix LR  \n",
      " \n",
      " [[4779   17   32   32  218  271    6  203   85  170]\n",
      " [  35 4193  437   66  171   61  366   24  245  194]\n",
      " [  11  357 3639  161  164  147  630   48  404  231]\n",
      " [   9  165  152 4461  146  366   64  128  245   59]\n",
      " [ 188  234  457  135 3931   91  254  139   77  319]\n",
      " [  98   99  228  243   84 4688  106   89  143   33]\n",
      " [  17  221  647   85  280  109 4058  119  199   61]\n",
      " [  99   74  195  118  213  179   84 4605   80  130]\n",
      " [  82  314  358  132  106  203  335   12 4154   95]\n",
      " [  63  319  437   13  183   85   51   89  210 4358]]\n",
      "\n",
      " Confusion matrix LR (normalized)   \n",
      " \n",
      " [[0.82 0.   0.01 0.01 0.04 0.05 0.   0.03 0.01 0.03]\n",
      " [0.01 0.72 0.08 0.01 0.03 0.01 0.06 0.   0.04 0.03]\n",
      " [0.   0.06 0.63 0.03 0.03 0.03 0.11 0.01 0.07 0.04]\n",
      " [0.   0.03 0.03 0.77 0.03 0.06 0.01 0.02 0.04 0.01]\n",
      " [0.03 0.04 0.08 0.02 0.67 0.02 0.04 0.02 0.01 0.05]\n",
      " [0.02 0.02 0.04 0.04 0.01 0.81 0.02 0.02 0.02 0.01]\n",
      " [0.   0.04 0.11 0.01 0.05 0.02 0.7  0.02 0.03 0.01]\n",
      " [0.02 0.01 0.03 0.02 0.04 0.03 0.01 0.8  0.01 0.02]\n",
      " [0.01 0.05 0.06 0.02 0.02 0.04 0.06 0.   0.72 0.02]\n",
      " [0.01 0.05 0.08 0.   0.03 0.01 0.01 0.02 0.04 0.75]]\n"
     ]
    }
   ],
   "source": [
    "from sklearn.metrics import confusion_matrix\n",
    "\n",
    "\n",
    "np.set_printoptions(precision=2, suppress=True) # for better aligned printing of confusion matrix use floatmode='fixed'\n",
    "\n",
    "u, counts = np.unique(y_test, return_counts=True)\n",
    "print(\"Labels and frequencies in test set: \", counts)\n",
    "\n",
    "confusion_SVM = confusion_matrix(y_test, SVM_prediction, labels=labels, sample_weight=None, normalize=None)\n",
    "\n",
    "print(\"\\n Confusion matrix SVM  \\n \\n\", confusion_SVM)\n",
    "print(\"\\n Confusion matrix SVM (normalized)   \\n \\n\", confusion_SVM /counts[:,None] )\n",
    "\n",
    "confusion_LR =  confusion_matrix(y_test, LR_prediction, labels=labels, sample_weight=None, normalize=None)\n",
    "print(\"\\n Confusion matrix LR  \\n \\n\", confusion_LR)\n",
    "print(\"\\n Confusion matrix LR (normalized)   \\n \\n\", confusion_LR /counts[:,None] )"
   ]
  },
  {
   "cell_type": "code",
   "execution_count": 21,
   "metadata": {},
   "outputs": [],
   "source": [
    "# ADD CODE TO NORMALIZE CONFUSION MATRIX AND PRINT THE NORMALIZED MATRIX\n"
   ]
  },
  {
   "cell_type": "markdown",
   "metadata": {},
   "source": [
    "## QUESTION 4\n",
    "Have a look at the confusion matrices and comment on the obtained accuracies. Why some classes have lower accuracies and others an higher one ? Make some guesses on the possible causes.\n"
   ]
  },
  {
   "cell_type": "markdown",
   "metadata": {},
   "source": [
    "The confusion matrix did have the corrctly classified sample across the main diaognal as expected. The lower accuracies of certain classes may corrospond to the data when there is a letter shape that is less distinct from others ie similar letter charactering to another in the set. "
   ]
  }
 ],
 "metadata": {
  "kernelspec": {
   "display_name": "Python 3",
   "language": "python",
   "name": "python3"
  },
  "language_info": {
   "codemirror_mode": {
    "name": "ipython",
    "version": 3
   },
   "file_extension": ".py",
   "mimetype": "text/x-python",
   "name": "python",
   "nbconvert_exporter": "python",
   "pygments_lexer": "ipython3",
   "version": "3.8.8"
  }
 },
 "nbformat": 4,
 "nbformat_minor": 4
}
