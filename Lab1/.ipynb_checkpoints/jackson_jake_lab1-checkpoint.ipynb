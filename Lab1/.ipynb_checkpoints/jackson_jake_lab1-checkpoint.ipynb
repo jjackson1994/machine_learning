{
 "cells": [
  {
   "cell_type": "markdown",
   "metadata": {},
   "source": [
    " # Machine Learning LAB 1\n",
    " Academic Year 2021/22, P. Zanuttigh, U. Michieli, F. Barbato, D. Shenaj, G. Rizzoli\n",
    "\n",
    "The notebook contains some simple tasks to be performed about classification and regression. Complete **all** the required code sections and answer to **all** the questions."
   ]
  },
  {
   "cell_type": "markdown",
   "metadata": {},
   "source": [
    "### IMPORTANT 1: make sure to rerun all the code from the beginning to obtain the results for the final version of your notebook, since this is the way we will do it before evaluating your notebook!\n"
   ]
  },
  {
   "cell_type": "markdown",
   "metadata": {},
   "source": [
    "### IMPORTANT 2: Place your name and ID number. Also recall to save the file as Surname_Name_LAB1.ipynb . Notebooks without name will be discarded.\n",
    "\n",
    "**Student name**: Jake Jackson<br>\n",
    "**ID Number**: 2046805"
   ]
  },
  {
   "cell_type": "markdown",
   "metadata": {},
   "source": [
    "\n",
    "# 1) Classification of Music genre\n",
    "\n",
    "### Dataset description\n",
    "\n",
    "A music genre is a conventional category that identifies pieces of music as belonging to a shared tradition or set of conventions. It is to be distinguished from musical form and musical style. The features extracted from these songs can help the machine to assing them to the two genres. \n",
    "\n",
    "This dataset is a subset of the dataset provided [here](https://www.kaggle.com/insiyeah/musicfeatures), containing only the data regarding the classical and metal genres.\n",
    "\n",
    "### We consider 3 features for the classification\n",
    "\n",
    "1) **tempo**, the speed at which a passage of music is played, i.e., the beats per minute of the musical piece<br>\n",
    "2) **chroma_stft**, [mean chromagram activation on Short-Time Fourier Transform](https://librosa.org/doc/0.7.0/generated/librosa.feature.chroma_stft.html)<br>\n",
    "3) **spectral_centroid**, Indicates where the \"center of mass\" of the spectrum is located, i.e., it is the weighted average of the frequency transform<br>\n"
   ]
  },
  {
   "cell_type": "markdown",
   "metadata": {},
   "source": [
    "We first import all the packages that are needed."
   ]
  },
  {
   "cell_type": "code",
   "execution_count": 1,
   "metadata": {},
   "outputs": [],
   "source": [
    "%matplotlib inline\n",
    "import matplotlib.pyplot as plt\n",
    "import csv\n",
    "\n",
    "import numpy as np\n",
    "import scipy as sp\n",
    "import sklearn as sl\n",
    "from scipy import stats\n",
    "from sklearn import datasets\n",
    "from sklearn import linear_model"
   ]
  },
  {
   "cell_type": "markdown",
   "metadata": {},
   "source": [
    "# Perceptron\n",
    "Firstly we will implement the perceptron algorithm and use it to learn a halfspace."
   ]
  },
  {
   "cell_type": "markdown",
   "metadata": {},
   "source": [
    "**TO DO** Set the random seed, you can use your ID (matricola) or any other number! Try to make various tests changing the seed."
   ]
  },
  {
   "cell_type": "code",
   "execution_count": 2,
   "metadata": {},
   "outputs": [],
   "source": [
    "IDnumber = 2046805 #YOUR_ID , try also to change the seed to see the impact of random initialization on the results\n",
    "np.random.seed(IDnumber)"
   ]
  },
  {
   "cell_type": "markdown",
   "metadata": {},
   "source": [
    "Load the dataset and then split in training set and test set (the training set is typically larger, you can use a 75% tranining 25% test split) after applying a random permutation to the datset."
   ]
  },
  {
   "cell_type": "markdown",
   "metadata": {},
   "source": [
    "A) Load dataset and perform permutation"
   ]
  },
  {
   "cell_type": "code",
   "execution_count": 3,
   "metadata": {},
   "outputs": [
    {
     "ename": "FileNotFoundError",
     "evalue": "[Errno 2] No such file or directory: 'data/music.csv'",
     "output_type": "error",
     "traceback": [
      "\u001b[1;31m---------------------------------------------------------------------------\u001b[0m",
      "\u001b[1;31mFileNotFoundError\u001b[0m                         Traceback (most recent call last)",
      "\u001b[1;32m<ipython-input-3-53b144195207>\u001b[0m in \u001b[0;36m<module>\u001b[1;34m\u001b[0m\n\u001b[0;32m      1\u001b[0m \u001b[1;31m# Load the dataset\u001b[0m\u001b[1;33m\u001b[0m\u001b[1;33m\u001b[0m\u001b[1;33m\u001b[0m\u001b[0m\n\u001b[0;32m      2\u001b[0m \u001b[0mfilename\u001b[0m \u001b[1;33m=\u001b[0m \u001b[1;34m'data/music.csv'\u001b[0m\u001b[1;33m\u001b[0m\u001b[1;33m\u001b[0m\u001b[0m\n\u001b[1;32m----> 3\u001b[1;33m \u001b[0mmusic\u001b[0m \u001b[1;33m=\u001b[0m \u001b[0mcsv\u001b[0m\u001b[1;33m.\u001b[0m\u001b[0mreader\u001b[0m\u001b[1;33m(\u001b[0m\u001b[0mopen\u001b[0m\u001b[1;33m(\u001b[0m\u001b[0mfilename\u001b[0m\u001b[1;33m,\u001b[0m \u001b[0mnewline\u001b[0m\u001b[1;33m=\u001b[0m\u001b[1;34m'\\n'\u001b[0m\u001b[1;33m)\u001b[0m\u001b[1;33m,\u001b[0m \u001b[0mdelimiter\u001b[0m\u001b[1;33m=\u001b[0m\u001b[1;34m','\u001b[0m\u001b[1;33m)\u001b[0m\u001b[1;33m\u001b[0m\u001b[1;33m\u001b[0m\u001b[0m\n\u001b[0m\u001b[0;32m      4\u001b[0m \u001b[1;33m\u001b[0m\u001b[0m\n\u001b[0;32m      5\u001b[0m \u001b[0mheader\u001b[0m \u001b[1;33m=\u001b[0m \u001b[0mnext\u001b[0m\u001b[1;33m(\u001b[0m\u001b[0mmusic\u001b[0m\u001b[1;33m)\u001b[0m \u001b[1;31m# skip first line\u001b[0m\u001b[1;33m\u001b[0m\u001b[1;33m\u001b[0m\u001b[0m\n",
      "\u001b[1;31mFileNotFoundError\u001b[0m: [Errno 2] No such file or directory: 'data/music.csv'"
     ]
    }
   ],
   "source": [
    "# Load the dataset\n",
    "filename = 'data/music.csv'\n",
    "music = csv.reader(open(filename, newline='\\n'), delimiter=',')\n",
    "\n",
    "header = next(music) # skip first line\n",
    "print(f\"Header: {header}\\n\")\n",
    "\n",
    "dataset = np.array(list(music))\n",
    "print(f\"Data shape: {dataset.shape}\\n\")\n",
    "print(\"Dataset Example:\")\n",
    "print(dataset[:10,...])\n",
    "\n",
    "X = dataset[:,:-1].astype(float) #columns 0,1,2 contain the features\n",
    "Y = dataset[:,-1].astype(int)    # last column contains the labels\n",
    "\n",
    "Y = 2*Y-1                        # for the perceptron classical--> -1, metal-->1\n",
    "m = dataset.shape[0]\n",
    "print(\"\\nNumber of samples loaded:\", m)\n",
    "permutation = np.random.permutation(m) # random permutation\n",
    "\n",
    "X = X[permutation]\n",
    "Y = Y[permutation]\n",
    "\n",
    "print('x', X)\n",
    "print('y', Y)"
   ]
  },
  {
   "cell_type": "markdown",
   "metadata": {},
   "source": [
    "We are going to classify class \"1\" (metal) vs class \"-1\" (classical)"
   ]
  },
  {
   "cell_type": "markdown",
   "metadata": {},
   "source": [
    "B) **TO DO** Divide the data into training set and test set (75% of the data in the first set, 25% in the second one)"
   ]
  },
  {
   "cell_type": "code",
   "execution_count": null,
   "metadata": {},
   "outputs": [],
   "source": [
    "# Divide in training and test: make sure that your training set\n",
    "# contains at least 10 elements from class 1 and at least 10 elements\n",
    "# from class -1! If it does not, modify the code so to apply more random\n",
    "# permutations (or the same permutation multiple times) until this happens.\n",
    "# IMPORTANT: do not change the random seed.\n",
    "\n",
    "def print_data(X,Y):\n",
    "    for a in range(0,len(X)):\n",
    "        print('a =',a,  X[a], Y[a])\n",
    "\n",
    "\n",
    "# m_test needs to be the number of samples in the test set\n",
    "m_test = round(len(X)*0.25)\n",
    "\n",
    "#m_training\n",
    "\n",
    "m_training = len(X)-m_test\n",
    "\n",
    "#I'm taking the first 0.75% for training purposes\n",
    "#array in python rows columns\n",
    "# X_training = instances for training set\n",
    "\n",
    "X_training = X[:m_training,...]\n",
    "Y_training = Y[:m_training]\n",
    "\n",
    "print_data(X,Y)\n",
    "    \n",
    "print('now set')\n",
    "\n",
    "print_data(X_training,Y_training)\n",
    "\n",
    "\n",
    "    \n",
    "X_test = X[m_training:,...] \n",
    "Y_test = Y[m_training:] \n",
    "print_data(X_test,Y_test)\n",
    "\n",
    "\n",
    "def check_dataset(Y):\n",
    "    c_count=0\n",
    "    m_count=0\n",
    "    for i in Y:\n",
    "        if i==-1: #classical\n",
    "            c_count=c_count+1\n",
    "        if i==1: #metal\n",
    "            m_count=m_count+1    \n",
    "    print('c = ', c_count, 'm = ', m_count, )\n",
    "\n",
    "def print_data(X,Y):\n",
    "    for a in range(0,len(X)):\n",
    "        print('a =',a,  X[a], Y[a])\n",
    "\n",
    "check_dataset(Y_training) \n",
    "\n",
    "\n"
   ]
  },
  {
   "cell_type": "markdown",
   "metadata": {},
   "source": [
    "We add a 1 in front of each sample so that we can use a vector in homogeneous coordinates to describe all the coefficients of the model. This can be done with the function $hstack$ in $numpy$."
   ]
  },
  {
   "cell_type": "code",
   "execution_count": null,
   "metadata": {
    "scrolled": true
   },
   "outputs": [],
   "source": [
    "# Add a 1 to each sample (homogeneous coordinates)\n",
    "X_training = np.hstack((np.ones((m_training,1)),X_training))\n",
    "X_test = np.hstack((np.ones((m_test,1)),X_test))\n",
    "\n",
    "print(\"Training set in homogeneous coordinates:\")\n",
    "print(X_training[:10])"
   ]
  },
  {
   "cell_type": "markdown",
   "metadata": {},
   "source": [
    "**TO DO** Now complete the function *perceptron*. Since the perceptron does not terminate if the data is not linearly separable, your implementation should return the desired output (see below) if it reached the termination condition seen in class or if a maximum number of iterations have already been run, where one iteration corresponds to one update of the perceptron weights. In case the termination is reached because the maximum number of iterations have been completed, the implementation should return **the best model** seen up to now.\n",
    "\n",
    "The input parameters to pass are:\n",
    "- $X$: the matrix of input features, one row for each sample\n",
    "- $Y$: the vector of labels for the input features matrix X\n",
    "- $max\\_num\\_iterations$: the maximum number of iterations for running the perceptron\n",
    "\n",
    "The output values are:\n",
    "- $best\\_w$: the vector with the coefficients of the best model\n",
    "- $best\\_error$: the *fraction* of misclassified samples for the best model"
   ]
  },
  {
   "cell_type": "code",
   "execution_count": null,
   "metadata": {},
   "outputs": [],
   "source": [
    "class Perceptron:\n",
    "\n",
    "    def __init__(self, learning_rate=0.01, N=1000):#initialise the class\n",
    "        self.lr = learning_rate\n",
    "        self.N = N\n",
    "        self.sign = self.sign_f\n",
    "        curr_w = None\n",
    "        self.bias = None\n",
    "        self.correct = 0\n",
    "        self.wrong =0\n",
    "        \n",
    "        \n",
    "    def fit(self, X, y):#perform the fit on the data\n",
    "        n_samples, n_features = X.shape\n",
    "\n",
    "        # init parameters\n",
    "        self.bias = 0\n",
    "        curr_w = np.zeros(n_features - 1)#The array already has the 1 term added so we dont want to double allow it when we add the bias in\n",
    "        self.curr_w = np.insert(curr_w, 0, self.bias, axis=0)#This puts the bias in the array\n",
    "        \n",
    "        \n",
    "        for _ in range(self.N): #the number of defined iterations do it this way to make sure we evenly go through data\n",
    "            permutation = np.random.permutation(len(X)) # randomise\n",
    "            X=X[permutation]\n",
    "            y=y[permutation]\n",
    "            for idx, x_i in enumerate(X): #the fit that then updates next iteration\n",
    "\n",
    "                linear_output = np.dot(x_i, self.curr_w)# bias just links to the 1 in the dot product\n",
    "                y_predicted = self.sign(linear_output)\n",
    "                \n",
    "                # Perceptron update rule\n",
    "                update = self.lr * (y[idx] - y_predicted)\n",
    "                self.curr_w[1:] += update * x_i[1:]\n",
    "                self.curr_w[0] += update\n",
    "\n",
    "    def results(self, X, y): #need to incorperate!\n",
    "        linear_output = np.dot(X, self.curr_w)\n",
    "        for a in range(0,len(X)):#could write as a list comp \n",
    "            y_predicted = self.sign(linear_output[a])\n",
    "            if y_predicted == y[a]:\n",
    "                self.correct+=1\n",
    "            elif y_predicted != y[a]:\n",
    "                self.wrong+=1\n",
    "                \n",
    "    def predict(self, X):\n",
    "        linear_output = np.dot(X, self.curr_w)\n",
    "        y_predicted = self.sign(linear_output)\n",
    "        return y_predicted\n",
    "\n",
    "    def sign_f(self, x):\n",
    "        return np.where(x >= 0, 1, -1)#Used where as it can work on 1 or many samples \n",
    "    \n",
    "# Testing\n",
    "if __name__ == \"__main__\":\n",
    " \n",
    "    p = Perceptron(learning_rate=0.2, N=100)\n",
    "    p.fit(X_training, Y_training)\n",
    "    p.results(X_training, Y_training)\n",
    "    # this works out what the test data should be\n",
    "    \n",
    "    best_error=p.wrong/p.correct\n",
    "    best_w= p.curr_w\n",
    "    \n",
    "    #best as we are using the data from the end when fully calibarted   \n",
    "    print('p_wrong =', p.wrong, 'p_correct =', p.correct )\n",
    "    print('best_error = ', best_error, ', best_w =', best_w)\n",
    " "
   ]
  },
  {
   "cell_type": "markdown",
   "metadata": {},
   "source": [
    "Now we use the implementation above of the perceptron to learn a model from the training data using 100 iterations and print the error of the best model we have found."
   ]
  },
  {
   "cell_type": "code",
   "execution_count": null,
   "metadata": {},
   "outputs": [],
   "source": [
    "#now run the perceptron for 100 iterations\n",
    "#w_found, error = perceptron(X_training,Y_training, 100)\n",
    "\n",
    "w_found, error = best_w, best_error\n",
    "\n",
    "print(\"Training Error of perpceptron (100 iterations): \" + str(error))"
   ]
  },
  {
   "cell_type": "markdown",
   "metadata": {},
   "source": [
    "**TO DO** use the best model $w\\_found$ to predict the labels for the test dataset and print the fraction of misclassified samples in the test set (the test error that is an estimate of the true loss)."
   ]
  },
  {
   "cell_type": "code",
   "execution_count": null,
   "metadata": {},
   "outputs": [],
   "source": [
    "#now use the w_found to make predictions on test dataset\n",
    "predictions = p.predict(X_test)\n",
    "\n",
    "num_errors=0# count when wrong prediction (incorperate into class!)\n",
    "\n",
    "for a in range(0,len(Y_test)):\n",
    "    if Y_test[a] != predictions[a]:\n",
    "        num_errors+=1\n",
    "\n",
    "print('wrong = ', num_errors, ', test size = ', m_test  )\n",
    "\n",
    "true_loss_estimate = num_errors/m_test  # error rate on the test set\n",
    "#NOTE: you can avoid using num_errors if you prefer, as long as true_loss_estimate is correct\n",
    "print(\"Test Error of perpceptron (100 iterations): \" + str(true_loss_estimate))"
   ]
  },
  {
   "cell_type": "markdown",
   "metadata": {},
   "source": [
    "**TO DO** **[Answer the following]** What about the difference betweeen the training error and the test error  in terms of fraction of misclassified samples)? Explain what you observe. [Write the answer in this cell]\n",
    "\n",
    "**ANSWER QUESTION 1**\n",
    "\n",
    "Test error was marginally lower than the training error, we have a very small sample size and this is due to a slight instability in the data. \n",
    "\n",
    "I know that usually the training data has a lower error on account of that been the model that generated the fit."
   ]
  },
  {
   "cell_type": "markdown",
   "metadata": {},
   "source": [
    "**TO DO** Copy the code from the last 2 cells above in the cell below and repeat the training with 4000 iterations. Then print the error in the training set and the estimate of the true loss obtained from the test set."
   ]
  },
  {
   "cell_type": "code",
   "execution_count": null,
   "metadata": {
    "scrolled": true
   },
   "outputs": [],
   "source": [
    "#now run the perceptron for 3000 iterations here!\n",
    "\n",
    "# PLACE YOUR CODE\n",
    "p4000 = Perceptron(learning_rate=0.2, N=4000)\n",
    "p4000.fit(X_training, Y_training)\n",
    "p4000.results(X_training, Y_training)\n",
    "error=p4000.wrong/p4000.correct\n",
    "\n",
    "print(\"Training Error of perpceptron (4000 iterations): \" + str(error))\n",
    "pred_4000 = p4000.predict(X_test)\n",
    "\n",
    "num_errors=0\n",
    "for a in range(0,len(Y_test)):\n",
    "    if Y_test[a] != pred_4000[a]:\n",
    "        num_errors+=1\n",
    "\n",
    "print('wrong = ', num_errors, ', test size = ', m_test  )\n",
    "true_loss_estimate = num_errors/m_test\n",
    "\n",
    "# PLACE YOUR CODE\n",
    "print(\"Test Error of perpceptron (4000 iterations): \" + str(true_loss_estimate))"
   ]
  },
  {
   "cell_type": "markdown",
   "metadata": {},
   "source": [
    "**TO DO** [Answer the following] What about the difference betweeen the training error and the test error  in terms of fraction of misclassified samples) when running for a larger number of iterations ? Explain what you observe and compare with the previous case. [Write the answer in this cell]\n",
    "\n",
    "**ANSWER QUESTION 2**\n",
    "\n",
    "Both errors reduced as we updated an keeped improving the fit through more and more iterations. I think that running only 100 iterations was not enough to to give the best data. In fact this is highlighted by the fact running 4000 iterations now gives a training error smaller that the test error as expected.  "
   ]
  },
  {
   "cell_type": "markdown",
   "metadata": {},
   "source": [
    "# Logistic Regression\n",
    "Now we use logistic regression, exploiting the implementation in Scikit-learn, to predict labels. We will also plot the decision region of logistic regression.\n",
    "\n",
    "We first load the dataset again."
   ]
  },
  {
   "cell_type": "code",
   "execution_count": null,
   "metadata": {},
   "outputs": [],
   "source": [
    "# Load the dataset\n",
    "filename = 'data/music.csv'\n",
    "music = csv.reader(open(filename, newline='\\n'), delimiter=',')\n",
    "\n",
    "header = next(music) # skip first line\n",
    "print(f\"Header: {header}\\n\")\n",
    "\n",
    "dataset = np.array(list(music))\n",
    "print(f\"Data shape: {dataset.shape}\\n\")\n",
    "print(\"Dataset Example:\")\n",
    "print(dataset[:10,...])\n",
    "\n",
    "X = dataset[:,:-1].astype(float) # columns 0,1,2 contain the features\n",
    "Y = dataset[:,-1].astype(int)    # last column contains the labels\n",
    "\n",
    "Y = 2*Y-1                        # for the perceprton classical--> -1, metal-->1\n",
    "m = dataset.shape[0]\n",
    "print(\"\\nNumber of samples loaded:\", m)\n",
    "permutation = np.random.permutation(m) # random permutation\n",
    "\n",
    "X = X[permutation]\n",
    "Y = Y[permutation]"
   ]
  },
  {
   "cell_type": "markdown",
   "metadata": {},
   "source": [
    "**TO DO** As for the previous part, divide the data into training and test (75%-25%) and add a 1 as first component to each sample."
   ]
  },
  {
   "cell_type": "code",
   "execution_count": null,
   "metadata": {},
   "outputs": [],
   "source": [
    "#Divide in training and test: make sure that your training set\n",
    "#contains at least 10 elements from class 1 and at least 10 elements\n",
    "#from class -1! If it does not, modify the code so to apply more random\n",
    "#permutations (or the same permutation multiple times) until this happens.\n",
    "#IMPORTANT: do not change the random seed.\n",
    "\n",
    "m_training = round(len(X)*0.75)\n",
    "m_test = len(X) - m_training\n",
    "\n",
    "X_training = X[:m_training,...]\n",
    "Y_training = Y[:m_training]\n",
    "\n",
    "X_test = X[m_training:,...] \n",
    "Y_test = Y[m_training:] \n",
    "\n",
    "\n",
    "print(\"Number of samples in the test set:\", m_test)\n",
    "print(\"\\nNumber of classical instances in test:\", np.sum(Y_test==-1))\n",
    "print(\"Number of metal instances in test:\", np.sum(Y_test==1))\n",
    "\n",
    "print(\"\\nShape of training set: \" + str(X_training.shape))\n",
    "print(\"Shape of test set: \" + str(X_test.shape))"
   ]
  },
  {
   "cell_type": "markdown",
   "metadata": {},
   "source": [
    "To define a logistic regression model in Scikit-learn use the instruction\n",
    "\n",
    "$linear\\_model.LogisticRegression(C=1e5)$\n",
    "\n",
    "($C$ is a parameter related to *regularization*, a technique that\n",
    "we will see later in the course. Setting it to a high value is almost\n",
    "as ignoring regularization, so the instruction above corresponds to the\n",
    "logistic regression you have seen in class.)\n",
    "\n",
    "To learn the model you need to use the $fit(...)$ instruction and to predict you need to use the $predict(...)$ function. See the Scikit-learn documentation for how to use it.\n",
    "\n",
    "**TO DO** Define the logistic regression model, then learn the model using the training set and predict on the test set. Then print the fraction of samples misclassified in the training set and in the test set."
   ]
  },
  {
   "cell_type": "code",
   "execution_count": null,
   "metadata": {},
   "outputs": [],
   "source": [
    "# t true, p predicted\n",
    "def num_wrong(y_p, y_t): #need to incorperate!\n",
    "    wrong=0\n",
    "    for a in range(0,len(y_p)):#could write as a list comp \n",
    "        if y_p[a] != y_t[a]:\n",
    "            wrong+=1\n",
    "    return wrong\n",
    "#print(num_wrong(Y_training,predictions))\n",
    "\n",
    "#part on logistic regression for 2 classes\n",
    "logreg = linear_model.LogisticRegression(C=1e5) #a large C disables regularization\n",
    "\n",
    "#learn from training set\n",
    "logreg.fit(X_training,Y_training)\n",
    "#predict on training set\n",
    "pred_train = logreg.predict(X_training)\n",
    "#print the error rate = fraction of misclassified samples\n",
    "error_rate_training = 0\n",
    "train_wrong=num_wrong(pred_train, Y_training)\n",
    "\n",
    "error_rate_training=train_wrong/(len(Y_training)-train_wrong)\n",
    "print(\"Error rate on training set: \"+str(error_rate_training))\n",
    "\n",
    "#predict on test set\n",
    "pred_test=logreg.predict(X_test)\n",
    "\n",
    "#print the error rate = fraction of misclassified samples\n",
    "error_rate_test = 0\n",
    "test_wrong = num_wrong(pred_test,Y_test)\n",
    "print(test_wrong)\n",
    "error_rate_test=test_wrong/(len(Y_test)-test_wrong)\n",
    "\n",
    "print(\"Error rate on test set: \" + str(error_rate_test))"
   ]
  },
  {
   "cell_type": "markdown",
   "metadata": {},
   "source": [
    "**TO DO** Now pick two features and restrict the dataset to include only two features, whose indices are specified in the $feature$ vector below. Then split into training and test. Which features are you going to select ?"
   ]
  },
  {
   "cell_type": "code",
   "execution_count": null,
   "metadata": {},
   "outputs": [],
   "source": [
    "# to make the plot we need to reduce the data to 2D, so we choose two features\n",
    "features_list = ['tempo', 'chroma_stft', 'spectral_centroid']\n",
    "index_feature1 = 1\n",
    "index_feature2 = 2\n",
    "\n",
    "features = [index_feature1, index_feature2]\n",
    "#temp chroma\n",
    "feature_name0 = features_list[features[0]]\n",
    "feature_name1 = features_list[features[1]]\n",
    "\n",
    "X_reduced = X[:,features]\n",
    "\n",
    "X_training = X_reduced[:m_training,...]\n",
    "Y_training = Y[:m_training]\n",
    "\n",
    "X_test = X_reduced[m_training:,...] \n",
    "Y_test = Y[m_training:] \n"
   ]
  },
  {
   "cell_type": "markdown",
   "metadata": {},
   "source": [
    "Now learn a model using the training data and measure the performances."
   ]
  },
  {
   "cell_type": "code",
   "execution_count": null,
   "metadata": {},
   "outputs": [],
   "source": [
    "# learning from training data\n",
    "\n",
    "logreg = linear_model.LogisticRegression(C=1e5) #a large C disables regularization\n",
    "logreg.fit(X_training,Y_training)\n",
    "\n",
    "pred_train=logreg.predict(X_training)\n",
    "\n",
    "train_wrong=num_wrong(pred_train, Y_training)\n",
    "error_rate_training=train_wrong/(len(Y_training)-train_wrong)\n",
    "#print the error rate = fraction of misclassified samples\n",
    "print('Training Wrong', train_wrong, error_rate_training)\n",
    "\n",
    "logreg.fit(X_test,Y_test)\n",
    "\n",
    "error_rate_test = 0\n",
    "pred_test=logreg.predict(X_test)\n",
    "test_wrong=num_wrong(pred_test, Y_test)\n",
    "error_rate_test=test_wrong/(len(Y_training)-test_wrong)\n",
    "\n",
    "\n",
    "print(\"Error rate on test set: \" + str(error_rate_test))"
   ]
  },
  {
   "cell_type": "markdown",
   "metadata": {},
   "source": [
    "**TO DO** [Answer the following] Which features did you select and why ? Compare the perfromances with the ones of the case with all the 3 features and comment about the results. [Write the answer in this cell]\n",
    "\n",
    "I selected chroma_stft and spectral_centroid. This is because I found that they had the lowest errors out of the choices avalible. This combination had a lower error than all three features together. This is likely because we isolated something meaningful in the original data    \n",
    "\n",
    "**ANSWER QUESTION 3**"
   ]
  },
  {
   "cell_type": "markdown",
   "metadata": {},
   "source": [
    "If everything is ok, the code below uses the model in $logreg$ to plot the decision region for the two features chosen above, with colors denoting the predicted value. It also plots the points (with correct labels) in the training set. It makes a similar plot for the test set."
   ]
  },
  {
   "cell_type": "code",
   "execution_count": null,
   "metadata": {
    "scrolled": true
   },
   "outputs": [],
   "source": [
    "# Plot the decision boundary. For that, we will assign a color to each\n",
    "# point in the mesh [x_min, x_max]x[y_min, y_max].\n",
    "\n",
    "# NOTICE: This visualization code has been developed for a \"standard\" solution of the notebook, \n",
    "# it could be necessary to make some fixes to adapt to your implementation\n",
    "\n",
    "h = .02  # step size in the mesh\n",
    "x_min, x_max = X_reduced[:, 0].min() - .5, X_reduced[:, 0].max() + .5\n",
    "y_min, y_max = X_reduced[:, 1].min() - .5, X_reduced[:, 1].max() + .5\n",
    "xx, yy = np.meshgrid(np.arange(x_min, x_max, h), np.arange(y_min, y_max, h))\n",
    "\n",
    "Z = logreg.predict(np.c_[xx.ravel(), yy.ravel()])\n",
    "\n",
    "# Put the result into a color plot\n",
    "Z = Z.reshape(xx.shape)\n",
    "\n",
    "plt.figure(1, figsize=(4, 3))\n",
    "plt.pcolormesh(xx, yy, Z, cmap=plt.cm.Paired)\n",
    "\n",
    "# Plot also the training points\n",
    "plt.scatter(X_training[:, 0], X_training[:, 1], c=Y_training, edgecolors='k', cmap=plt.cm.Paired)\n",
    "plt.xlabel(feature_name0)\n",
    "plt.ylabel(feature_name1)\n",
    "\n",
    "plt.xlim(xx.min(), xx.max())\n",
    "plt.ylim(yy.min(), yy.max())\n",
    "plt.xticks(())\n",
    "plt.yticks(())\n",
    "plt.title('Training set')\n",
    "\n",
    "plt.show()\n",
    "\n",
    "# Put the result into a color plot\n",
    "Z = Z.reshape(xx.shape)\n",
    "plt.figure(1, figsize=(4, 3))\n",
    "plt.pcolormesh(xx, yy, Z, cmap=plt.cm.Paired)\n",
    "\n",
    "# Plot also the test points \n",
    "plt.scatter(X_test[:, 0], X_test[:, 1], c=Y_test, edgecolors='k', cmap=plt.cm.Paired, marker='s')\n",
    "plt.xlabel(feature_name0)\n",
    "plt.ylabel(feature_name1)\n",
    "\n",
    "plt.xlim(xx.min(), xx.max())\n",
    "plt.ylim(yy.min(), yy.max())\n",
    "plt.xticks(())\n",
    "plt.yticks(())\n",
    "plt.title('Test set')\n",
    "\n",
    "plt.show()"
   ]
  },
  {
   "cell_type": "markdown",
   "metadata": {},
   "source": [
    "# 2) Linear Regression on the Boston House Price dataset\n",
    "\n",
    "### Dataset description: \n",
    "\n",
    "The Boston House Price Dataset involves the prediction of a house price in thousands of dollars given details about the house and its neighborhood.\n",
    "\n",
    "The dataset contains a total of 500 observations, which relate 13 input features to an output variable (house price).\n",
    "\n",
    "The variable names are as follows:\n",
    "\n",
    "CRIM: per capita crime rate by town.\n",
    "\n",
    "ZN: proportion of residential land zoned for lots over 25,000 sq.ft.\n",
    "\n",
    "INDUS: proportion of nonretail business acres per town.\n",
    "\n",
    "CHAS: Charles River dummy variable (= 1 if tract bounds river; 0 otherwise).\n",
    "\n",
    "NOX: nitric oxides concentration (parts per 10 million).\n",
    "\n",
    "RM: average number of rooms per dwelling.\n",
    "\n",
    "AGE: proportion of owner-occupied units built prior to 1940.\n",
    "\n",
    "DIS: weighted distances to five Boston employment centers.\n",
    "\n",
    "RAD: index of accessibility to radial highways.\n",
    "\n",
    "TAX: full-value property-tax rate per $10,000.\n",
    "\n",
    "PTRATIO: pupil-teacher ratio by town.\n",
    "\n",
    "B: 1000*(Bk – 0.63)2 where Bk is the proportion of blacks by town.\n",
    "\n",
    "LSTAT: % lower status of the population.\n",
    "\n",
    "MEDV: Median value of owner-occupied homes in $1000s.\n",
    "    "
   ]
  },
  {
   "cell_type": "code",
   "execution_count": null,
   "metadata": {},
   "outputs": [],
   "source": [
    "#needed if you get the IPython/javascript error on the in-line plots\n",
    "%matplotlib nbagg  \n",
    "\n",
    "import matplotlib.pyplot as plt\n",
    "import numpy as np\n",
    "import scipy as sp\n",
    "from scipy import stats"
   ]
  },
  {
   "cell_type": "code",
   "execution_count": null,
   "metadata": {},
   "outputs": [],
   "source": [
    "#Import Data: Load the data from a .csv file\n",
    "\n",
    "filename = \"data/house.csv\"\n",
    "Data = np.genfromtxt(filename, delimiter=';',skip_header=1)\n",
    "\n",
    "#A quick overview of data, to inspect the data you can use the method describe()\n",
    "\n",
    "dataDescription = stats.describe(Data)\n",
    "print(dataDescription)\n",
    "print (\"Shape of data array: \" + str(Data.shape))\n",
    "\n",
    "\n",
    "#for more interesting visualization: use Panda!"
   ]
  },
  {
   "cell_type": "markdown",
   "metadata": {},
   "source": [
    "# Split data in training and test sets\n",
    "\n",
    "\n",
    "\n",
    "Given $m$ total data, denote with $m_{t}$ the part used for training. Keep $m_t$ data as training data, and $m_{test}:= m-m_{t}$. For instance one can take $m_t=0.7m$ of the data as training and $m_{test}=0.3m$ as testing. Let us define as define\n",
    "\n",
    "$\\bullet$ $S_{t}$ the training data set\n",
    "\n",
    "$\\bullet$ $S_{test}$ the testing data set\n",
    "\n",
    "\n",
    "The reason for this splitting is as follows:\n",
    "\n",
    "TRAINING DATA: The training data are used to compute the empirical loss\n",
    "$$\n",
    "L_S(h) = \\frac{1}{m_t} \\sum_{z_i \\in S_{t}} \\ell(h,z_i)\n",
    "$$\n",
    "which is used to estimate $h$ in a given model class ${\\cal H}$.\n",
    "i.e. \n",
    "$$\n",
    "\\hat{h} = {\\rm arg\\; min}_{h \\in {\\cal H}} \\, L_S(h)\n",
    "$$\n",
    "\n",
    "TESTING DATA: The test data set can be used to estimate the performance of the final estimated model\n",
    "$\\hat h_{\\hat d_j}$ using:\n",
    "$$\n",
    "L_{{\\cal D}}(\\hat h_{\\hat d_j}) \\simeq \\frac{1}{m_{test}} \\sum_{ z_i \\in S_{test}} \\ell(\\hat h_{\\hat d_j},z_i)\n",
    "$$\n",
    "\n",
    "\n",
    "**TO DO**: split the data in training and test sets (70%-30%)"
   ]
  },
  {
   "cell_type": "code",
   "execution_count": null,
   "metadata": {},
   "outputs": [],
   "source": [
    "#get number of total samples\n",
    "num_total_samples = Data.shape[0]\n",
    "\n",
    "print (\"Total number of samples: \", num_total_samples)\n",
    "\n",
    "m_t = int(num_total_samples*.7)\n",
    "\n",
    "print (\"Cardinality of Training Set: \", m_t)\n",
    "\n",
    "#shuffle the data\n",
    "np.random.shuffle(Data)\n",
    "\n",
    "#training data \n",
    "X_training = Data[:m_t,:13]#exclude the final col with prices\n",
    "Y_training = Data[:m_t,-1]\n",
    "\n",
    "print (\"Training input data size: \", X_training.shape)\n",
    "print (\"Training output data size: \", Y_training.shape)\n",
    "\n",
    "#test data, to be used to estimate the true loss of the final model(s)\n",
    "X_test = Data[m_t:,:13] \n",
    "Y_test = Data[m_t:,-1] \n",
    "print (\"Test input data size: \", X_test.shape)\n",
    "print (\"Test output data size: \", Y_test.shape)"
   ]
  },
  {
   "cell_type": "markdown",
   "metadata": {},
   "source": [
    "# Data Normalization\n",
    "It is common practice in Statistics and Machine Learning to scale the data (= each variable) so that it is centered (zero mean) and has standard deviation equal to 1. This helps in terms of numerical conditioning of the (inverse) problems of estimating the model (the coefficients of the linear regression in this case), as well as to give the same scale to all the coefficients."
   ]
  },
  {
   "cell_type": "code",
   "execution_count": null,
   "metadata": {},
   "outputs": [],
   "source": [
    "# scale the data\n",
    "\n",
    "# standardize the input matrix\n",
    "from sklearn import preprocessing\n",
    "# the transformation is computed on training data and then used on all the 3 sets\n",
    "scaler = preprocessing.StandardScaler().fit(X_training) \n",
    "\n",
    "np.set_printoptions(suppress=True) # sets to zero floating point numbers < min_float_eps\n",
    "X_training = scaler.transform(X_training)\n",
    "print (\"Mean of the training input data:\", X_training.mean(axis=0))\n",
    "print (\"Std of the training input data:\",X_training.std(axis=0))\n",
    "\n",
    "X_test = scaler.transform(X_test) # use the same transformation on test data\n",
    "print (\"Mean of the test input data:\", X_test.mean(axis=0))\n",
    "print (\"Std of the test input data:\", X_test.std(axis=0))"
   ]
  },
  {
   "cell_type": "markdown",
   "metadata": {},
   "source": [
    "# Model Training \n",
    "\n",
    "The model is trained (= estimated) minimizing the empirical error\n",
    "$$\n",
    "L_S(h) := \\frac{1}{m_t} \\sum_{z_i \\in S_{t}} \\ell(h,z_i)\n",
    "$$\n",
    "When the loss function is the quadratic loss\n",
    "$$\n",
    "\\ell(h,z) := (y - h(x))^2\n",
    "$$\n",
    "we define  the Residual Sum of Squares (RSS) as\n",
    "$$\n",
    "RSS(h):= \\sum_{z_i \\in S_{t}} \\ell(h,z_i) = \\sum_{z_i \\in S_{t}} (y_i - h(x_i))^2\n",
    "$$ so that the training error becomes\n",
    "$$\n",
    "L_S(h) = \\frac{RSS(h)}{m_t}\n",
    "$$\n",
    "\n",
    "We recal that, for linear models we have $h(x) = <w,x>$ and the Empirical error $L_S(h)$ can be written\n",
    "in terms of the vector of parameters $w$ in the form\n",
    "$$\n",
    "L_S(w) = \\frac{1}{m_t} \\|Y - X w\\|^2\n",
    "$$\n",
    "where $Y$ and $X$ are the matrices whose $i-$th row are, respectively, the output data $y_i$ and the input vectors $x_i^\\top$.\n",
    "\n",
    "\n",
    " **TO DO:** compute the linear regression coefficients using np.linalg.lstsq from scikitlear \n",
    " "
   ]
  },
  {
   "cell_type": "code",
   "execution_count": null,
   "metadata": {},
   "outputs": [],
   "source": [
    "#compute linear regression coefficients for training data\n",
    "\n",
    "#add a 1 at the beginning of each sample for training, and testing (use homogeneous coordinates)\n",
    "m_training = X_training.shape[0]\n",
    "X_trainingH = np.hstack((np.ones((m_training,1)),X_training)) # H: in homogeneous coordinates\n",
    "\n",
    "m_test = X_test.shape[0]\n",
    "X_testH = np.hstack((np.ones((m_test,1)),X_test))  # H: in homogeneous coordinates\n",
    "\n",
    "# Compute the least-squares coefficients using linalg.lstsq\n",
    "w_np, RSStr_np, rank_Xtr, sv_Xtr =  np.linalg.lstsq(X_trainingH, Y_training ,rcond=None)#stop warning\n",
    "print(\"LS coefficients with numpy lstsq:\", w_np)\n",
    "\n",
    "# compute Residual sums of squares \n",
    "\n",
    "RSStr_hand = sum((Y_training-np.dot(X_trainingH,w_np))**2)\n",
    "\n",
    "print(\"RSS with numpy lstsq: \", RSStr_np)\n",
    "print(\"Empirical risk with numpy lstsq:\", RSStr_np/m_training)"
   ]
  },
  {
   "cell_type": "markdown",
   "metadata": {},
   "source": [
    "## Data prediction \n",
    "\n",
    "Compute the output predictions on both training and test set and compute the Residual Sum of Squares (RSS). \n",
    "\n",
    "**TO DO**: Compute these quantities on  training and test sets."
   ]
  },
  {
   "cell_type": "code",
   "execution_count": null,
   "metadata": {},
   "outputs": [],
   "source": [
    "#compute predictions on training and test\n",
    "\n",
    "prediction_training = np.dot(X_trainingH, w_np)\n",
    "prediction_test = np.dot(X_testH, w_np)\n",
    "\n",
    "#what about the loss for points in the test data?\n",
    "RSS_test = sum((Y_test - np.dot(X_testH, w_np))**2)\n",
    "\n",
    "\n",
    "print(\"RSS on test data:\",  RSS_test)\n",
    "print(\"Loss estimated from test data:\", RSS_test/m_test)"
   ]
  },
  {
   "cell_type": "markdown",
   "metadata": {},
   "source": [
    "### QUESTION 4: Comment on the results you get and on the difference between the train and test errors.\n",
    "\n",
    "The test error is bigger than the training as expected "
   ]
  },
  {
   "cell_type": "markdown",
   "metadata": {},
   "source": [
    "## Ordinary Least-Squares using scikit-learn\n",
    "Another fast way to compute the LS estimate is through sklearn.linear_model (for this function homogeneous coordinates are not needed)."
   ]
  },
  {
   "cell_type": "code",
   "execution_count": null,
   "metadata": {},
   "outputs": [],
   "source": [
    "from sklearn import linear_model\n",
    "\n",
    "# build the LinearRegression() model and train it\n",
    "LinReg = linear_model.LinearRegression()\n",
    "LinReg.fit(X_training, Y_training)\n",
    "\n",
    "print(\"Intercept:\", LinReg.intercept_)\n",
    "print(\"Least-Squares Coefficients:\", LinReg.coef_)\n",
    "\n",
    "pred_train = LinReg.predict(X_training)\n",
    "pred_test = LinReg.predict(X_test)\n",
    "\n",
    "print('Training Predictions')\n",
    "#print(pred_train)\n",
    "print(pred_test)\n",
    "\n",
    "# return a prediction score based on the coefficient of determination\n",
    "print(\"Measure on training data:\", 1-LinReg.score(X_training, Y_training))"
   ]
  }
 ],
 "metadata": {
  "anaconda-cloud": {},
  "kernelspec": {
   "display_name": "Python 3",
   "language": "python",
   "name": "python3"
  },
  "language_info": {
   "codemirror_mode": {
    "name": "ipython",
    "version": 3
   },
   "file_extension": ".py",
   "mimetype": "text/x-python",
   "name": "python",
   "nbconvert_exporter": "python",
   "pygments_lexer": "ipython3",
   "version": "3.8.8"
  }
 },
 "nbformat": 4,
 "nbformat_minor": 4
}
